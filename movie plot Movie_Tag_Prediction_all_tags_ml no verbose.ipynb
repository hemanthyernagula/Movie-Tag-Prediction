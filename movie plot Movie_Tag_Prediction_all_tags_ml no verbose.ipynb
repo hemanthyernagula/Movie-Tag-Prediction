{
 "cells": [
  {
   "cell_type": "markdown",
   "metadata": {
    "colab_type": "text",
    "id": "a0e_nOxpvxv6"
   },
   "source": [
    "# Importing Required Libraries"
   ]
  },
  {
   "cell_type": "code",
   "execution_count": 0,
   "metadata": {
    "colab": {},
    "colab_type": "code",
    "id": "GPAdtonnWf8o",
    "scrolled": true
   },
   "outputs": [],
   "source": [
    "!pip install --upgrade jupyterhub\n"
   ]
  },
  {
   "cell_type": "code",
   "execution_count": 0,
   "metadata": {
    "colab": {},
    "colab_type": "code",
    "id": "wQkHRb-bWf8v"
   },
   "outputs": [],
   "source": [
    "# !pip install Opencv-python\n",
    "# !pip install seaborn\n",
    "# !pip install sklearn\n",
    "# !pip install nltk\n",
    "# !pip install wordcloud\n",
    "# !pip install prettytable"
   ]
  },
  {
   "cell_type": "code",
   "execution_count": 0,
   "metadata": {
    "colab": {},
    "colab_type": "code",
    "id": "Xvde9eK5Yjsn"
   },
   "outputs": [],
   "source": [
    "import os\n",
    "import re\n",
    "import cv2\n",
    "import sys\n",
    "import nltk\n",
    "import shutil\n",
    "import string\n",
    "import pickle\n",
    "import numpy as np\n",
    "import pandas as pd\n",
    "import seaborn as sns\n",
    "import matplotlib.pyplot as plt\n",
    "\n",
    "from prettytable import from_html_one\n",
    "from PIL import Image\n",
    "from tqdm import tqdm\n",
    "from zipfile import ZipFile\n",
    "from prettytable import PrettyTable\n",
    "from bs4 import BeautifulSoup\n",
    "from scipy.sparse import hstack\n",
    "from wordcloud import WordCloud\n",
    "from nltk.corpus import stopwords\n",
    "from nltk.stem.snowball import SnowballStemmer\n",
    "from nltk import Counter # Used to count number of times a word repeated\n",
    "# from sqlalchemy import create_engine\n",
    "from sklearn.model_selection import GridSearchCV, train_test_split\n",
    "\n",
    "from sklearn import metrics\n",
    "from sklearn.linear_model import SGDClassifier, LogisticRegression\n",
    "from sklearn.naive_bayes import MultinomialNB, GaussianNB\n",
    "from sklearn.multiclass import OneVsRestClassifier\n",
    "from sklearn.feature_extraction.text import CountVectorizer\n",
    "from sklearn.feature_extraction.text import TfidfVectorizer\n",
    "from sklearn.metrics import accuracy_score, hamming_loss, precision_score, recall_score,f1_score\n",
    "\n"
   ]
  },
  {
   "cell_type": "code",
   "execution_count": 0,
   "metadata": {
    "colab": {},
    "colab_type": "code",
    "id": "z86bJDdsYa-1",
    "scrolled": true
   },
   "outputs": [],
   "source": [
    "from google.colab import drive\n",
    "drive.mount('gdrive',force_remount=True)"
   ]
  },
  {
   "cell_type": "markdown",
   "metadata": {
    "colab_type": "text",
    "id": "Lqm7CIuCGYcK"
   },
   "source": [
    "# Business Problem\n",
    "## Discription\n",
    "\n",
    "Social tagging of movies reveals a wide range of heterogeneous information about movies, like the genre, plot structure, soundtracks, metadata, visual and emotional experiences. Such information can be valuable in building automatic systems to create tags for movies. Automatic tagging systems can help recommendation engines to improve the retrieval of similar movies as well as help viewers to know what to expect from a movie in advance. In this paper, we set out to the task of collecting a corpus of movie plot synopses and tags. We describe a methodology that enabled us to build a fine-grained set of around 70 tags exposing heterogeneous characteristics of movie plots and the multi-label associations of these tags with some 14K movie plot synopses. We investigate how these tags correlate with movies and the flow of emotions throughout different types of movies. Finally, we use this corpus to explore the feasibility of inferring tags from plot synopses. We expect the corpus will be useful in other tasks where analysis of narratives is relevant."
   ]
  },
  {
   "cell_type": "markdown",
   "metadata": {
    "colab_type": "text",
    "id": "IIBzhCJ8smkd"
   },
   "source": [
    "## Problem Statemtent\n",
    "Suggest the tags based on the synopses and title the movie.\n",
    "\n",
    "## Source\n",
    "\n",
    "<strong>Kaggle :</strong>https://www.kaggle.com/cryptexcode/mpst-movie-plot-synopses-with-tags\n",
    "\n",
    "\n",
    "## Real World Objectives:\n",
    "\n",
    "<ol>\n",
    "<li>Predicting as many tags as possible for a movie </li>\n",
    "<li>Predicting wrong tags may lead to bad coustomer experience</li>\n",
    "<li>No time restrictions</li>\n",
    "</ol>"
   ]
  },
  {
   "cell_type": "markdown",
   "metadata": {
    "colab_type": "text",
    "id": "QY2Iv4O-u3dV"
   },
   "source": [
    "# Machine Lerning Problem\n",
    "## Data"
   ]
  },
  {
   "cell_type": "code",
   "execution_count": 0,
   "metadata": {
    "colab": {},
    "colab_type": "code",
    "id": "hZHTa_UtZAL8"
   },
   "outputs": [],
   "source": [
    "# Reading Data\n",
    "\n",
    "data = pd.read_csv('mpst_full_data.csv')\n",
    "# data.to_csv('mpst_full_data.csv')\n",
    "data.to_csv('data.csv', index = False)\n"
   ]
  },
  {
   "cell_type": "code",
   "execution_count": 0,
   "metadata": {
    "colab": {
     "base_uri": "https://localhost:8080/",
     "height": 255
    },
    "colab_type": "code",
    "id": "9kAkiGkbZE3c",
    "outputId": "706c7197-14f6-46fb-aadf-b29fe07e2548"
   },
   "outputs": [
    {
     "data": {
      "text/html": [
       "<div>\n",
       "<style scoped>\n",
       "    .dataframe tbody tr th:only-of-type {\n",
       "        vertical-align: middle;\n",
       "    }\n",
       "\n",
       "    .dataframe tbody tr th {\n",
       "        vertical-align: top;\n",
       "    }\n",
       "\n",
       "    .dataframe thead th {\n",
       "        text-align: right;\n",
       "    }\n",
       "</style>\n",
       "<table border=\"1\" class=\"dataframe\">\n",
       "  <thead>\n",
       "    <tr style=\"text-align: right;\">\n",
       "      <th></th>\n",
       "      <th>imdb_id</th>\n",
       "      <th>title</th>\n",
       "      <th>plot_synopsis</th>\n",
       "      <th>tags</th>\n",
       "      <th>split</th>\n",
       "      <th>synopsis_source</th>\n",
       "    </tr>\n",
       "  </thead>\n",
       "  <tbody>\n",
       "    <tr>\n",
       "      <th>0</th>\n",
       "      <td>tt0057603</td>\n",
       "      <td>I tre volti della paura</td>\n",
       "      <td>Note: this synopsis is for the orginal Italian...</td>\n",
       "      <td>cult, horror, gothic, murder, atmospheric</td>\n",
       "      <td>train</td>\n",
       "      <td>imdb</td>\n",
       "    </tr>\n",
       "    <tr>\n",
       "      <th>1</th>\n",
       "      <td>tt1733125</td>\n",
       "      <td>Dungeons &amp; Dragons: The Book of Vile Darkness</td>\n",
       "      <td>Two thousand years ago, Nhagruul the Foul, a s...</td>\n",
       "      <td>violence</td>\n",
       "      <td>train</td>\n",
       "      <td>imdb</td>\n",
       "    </tr>\n",
       "    <tr>\n",
       "      <th>2</th>\n",
       "      <td>tt0033045</td>\n",
       "      <td>The Shop Around the Corner</td>\n",
       "      <td>Matuschek's, a gift store in Budapest, is the ...</td>\n",
       "      <td>romantic</td>\n",
       "      <td>test</td>\n",
       "      <td>imdb</td>\n",
       "    </tr>\n",
       "    <tr>\n",
       "      <th>3</th>\n",
       "      <td>tt0113862</td>\n",
       "      <td>Mr. Holland's Opus</td>\n",
       "      <td>Glenn Holland, not a morning person by anyone'...</td>\n",
       "      <td>inspiring, romantic, stupid, feel-good</td>\n",
       "      <td>train</td>\n",
       "      <td>imdb</td>\n",
       "    </tr>\n",
       "    <tr>\n",
       "      <th>4</th>\n",
       "      <td>tt0086250</td>\n",
       "      <td>Scarface</td>\n",
       "      <td>In May 1980, a Cuban man named Tony Montana (A...</td>\n",
       "      <td>cruelty, murder, dramatic, cult, violence, atm...</td>\n",
       "      <td>val</td>\n",
       "      <td>imdb</td>\n",
       "    </tr>\n",
       "  </tbody>\n",
       "</table>\n",
       "</div>"
      ],
      "text/plain": [
       "     imdb_id  ... synopsis_source\n",
       "0  tt0057603  ...            imdb\n",
       "1  tt1733125  ...            imdb\n",
       "2  tt0033045  ...            imdb\n",
       "3  tt0113862  ...            imdb\n",
       "4  tt0086250  ...            imdb\n",
       "\n",
       "[5 rows x 6 columns]"
      ]
     },
     "execution_count": 6,
     "metadata": {
      "tags": []
     },
     "output_type": "execute_result"
    }
   ],
   "source": [
    "data.head()"
   ]
  },
  {
   "cell_type": "markdown",
   "metadata": {
    "colab_type": "text",
    "id": "QjEALiqJq21H"
   },
   "source": [
    "<strong>Column Discription</strong>\n",
    "\n",
    "<ol>\n",
    "<li><strong>imdb_id:- </strong>    IMDB Movie Id</li>\n",
    "<li><strong>title:- </strong>    Name of the Movie</li>\n",
    "<li><strong>plot_synopsis:- </strong>    Summary of the movie</li>\n",
    "<li><strong>tags:-</strong>     Tags of the movie</li>\n",
    "<li><strong>split:-</strong>     Represents train, test or validation data</li>\n",
    "<li><strong>synopsis_source:-</strong>     From where summary of the movie is collected from</li>\n",
    "\n",
    "</ol>\n"
   ]
  },
  {
   "cell_type": "markdown",
   "metadata": {
    "colab_type": "text",
    "id": "nENMV9hzxyDm"
   },
   "source": [
    "## Type of Machine Learning Problem"
   ]
  },
  {
   "cell_type": "markdown",
   "metadata": {
    "colab_type": "text",
    "id": "FPY0GFpWx3TX"
   },
   "source": [
    "<p>This is a kind of multilabel classification problem, <strong>multilabel </strong>means each data point will have a bunch of labels, unlike each data point, having one label, for example, each movie will have many tags like violence, cult, gothic, cruelty,  sadist, feel-good, revenge, inspiring, romantic, stupid.</p>"
   ]
  },
  {
   "cell_type": "markdown",
   "metadata": {
    "colab_type": "text",
    "id": "uUTG8FjS0OIK"
   },
   "source": [
    "## Performance Metric\n",
    "\n",
    "<b>Micro-Averaged F1-Score (Mean F Score) </b>: \n",
    "The F1 score can be interpreted as a weighted average of the precision and recall, where an F1 score reaches its best value at 1 and worst score at 0. The relative contribution of precision and recall to the F1 score are equal. The formula for the F1 score is:\n",
    "\n",
    "<i>F1 = 2 * (precision * recall) / (precision + recall)</i><br>\n",
    "\n",
    "In the multi-class and multi-label case, this is the weighted average of the F1 score of each class. <br>\n",
    "\n",
    "<b>'Micro f1 score': </b><br>\n",
    "Calculate metrics globally by counting the total true positives, false negatives and false positives. This is a better metric when we have class imbalance.\n",
    "<br>\n",
    "\n",
    "<b>'Macro f1 score': </b><br>\n",
    "Calculate metrics for each label, and find their unweighted mean. This does not take label imbalance into account.\n",
    "<br>\n",
    "\n",
    "https://sebastianraschka.com/faq/docs/multiclass-metric.html\n",
    "\n",
    "http://scikit-learn.org/stable/modules/generated/sklearn.metrics.f1_score.html <br>\n",
    "<br>\n",
    "<b> Hamming loss </b>: The Hamming loss is the fraction of labels that are incorrectly predicted. <br>\n",
    "https://en.wikipedia.org/wiki/Multi-label_classification#Statistics_and_evaluation_metrics"
   ]
  },
  {
   "cell_type": "markdown",
   "metadata": {
    "colab_type": "text",
    "id": "s17VGI9VULF9"
   },
   "source": [
    "# Exploratory Data Analysis"
   ]
  },
  {
   "cell_type": "markdown",
   "metadata": {
    "colab_type": "text",
    "id": "mN_8x0l5rS8V"
   },
   "source": [
    "## Loading Data"
   ]
  },
  {
   "cell_type": "code",
   "execution_count": 0,
   "metadata": {
    "colab": {},
    "colab_type": "code",
    "id": "c_oKRxdnvwwI"
   },
   "outputs": [],
   "source": [
    "data = pd.read_csv('data.csv')"
   ]
  },
  {
   "cell_type": "code",
   "execution_count": 0,
   "metadata": {
    "colab": {
     "base_uri": "https://localhost:8080/",
     "height": 285
    },
    "colab_type": "code",
    "id": "lTBBxe9Dwpql",
    "outputId": "631bb787-f91d-45ea-fb5a-7d6eb3abbe83"
   },
   "outputs": [
    {
     "data": {
      "text/html": [
       "<div>\n",
       "<style scoped>\n",
       "    .dataframe tbody tr th:only-of-type {\n",
       "        vertical-align: middle;\n",
       "    }\n",
       "\n",
       "    .dataframe tbody tr th {\n",
       "        vertical-align: top;\n",
       "    }\n",
       "\n",
       "    .dataframe thead th {\n",
       "        text-align: right;\n",
       "    }\n",
       "</style>\n",
       "<table border=\"1\" class=\"dataframe\">\n",
       "  <thead>\n",
       "    <tr style=\"text-align: right;\">\n",
       "      <th></th>\n",
       "      <th>imdb_id</th>\n",
       "      <th>title</th>\n",
       "      <th>plot_synopsis</th>\n",
       "      <th>tags</th>\n",
       "      <th>split</th>\n",
       "      <th>synopsis_source</th>\n",
       "    </tr>\n",
       "  </thead>\n",
       "  <tbody>\n",
       "    <tr>\n",
       "      <th>0</th>\n",
       "      <td>tt0057603</td>\n",
       "      <td>I tre volti della paura</td>\n",
       "      <td>Note: this synopsis is for the orginal Italian...</td>\n",
       "      <td>cult, horror, gothic, murder, atmospheric</td>\n",
       "      <td>train</td>\n",
       "      <td>imdb</td>\n",
       "    </tr>\n",
       "    <tr>\n",
       "      <th>1</th>\n",
       "      <td>tt1733125</td>\n",
       "      <td>Dungeons &amp; Dragons: The Book of Vile Darkness</td>\n",
       "      <td>Two thousand years ago, Nhagruul the Foul, a s...</td>\n",
       "      <td>violence</td>\n",
       "      <td>train</td>\n",
       "      <td>imdb</td>\n",
       "    </tr>\n",
       "    <tr>\n",
       "      <th>2</th>\n",
       "      <td>tt0033045</td>\n",
       "      <td>The Shop Around the Corner</td>\n",
       "      <td>Matuschek's, a gift store in Budapest, is the ...</td>\n",
       "      <td>romantic</td>\n",
       "      <td>test</td>\n",
       "      <td>imdb</td>\n",
       "    </tr>\n",
       "    <tr>\n",
       "      <th>3</th>\n",
       "      <td>tt0113862</td>\n",
       "      <td>Mr. Holland's Opus</td>\n",
       "      <td>Glenn Holland, not a morning person by anyone'...</td>\n",
       "      <td>inspiring, romantic, stupid, feel-good</td>\n",
       "      <td>train</td>\n",
       "      <td>imdb</td>\n",
       "    </tr>\n",
       "    <tr>\n",
       "      <th>4</th>\n",
       "      <td>tt0086250</td>\n",
       "      <td>Scarface</td>\n",
       "      <td>In May 1980, a Cuban man named Tony Montana (A...</td>\n",
       "      <td>cruelty, murder, dramatic, cult, violence, atm...</td>\n",
       "      <td>val</td>\n",
       "      <td>imdb</td>\n",
       "    </tr>\n",
       "  </tbody>\n",
       "</table>\n",
       "</div>"
      ],
      "text/plain": [
       "     imdb_id  ... synopsis_source\n",
       "0  tt0057603  ...            imdb\n",
       "1  tt1733125  ...            imdb\n",
       "2  tt0033045  ...            imdb\n",
       "3  tt0113862  ...            imdb\n",
       "4  tt0086250  ...            imdb\n",
       "\n",
       "[5 rows x 6 columns]"
      ]
     },
     "execution_count": 83,
     "metadata": {
      "tags": []
     },
     "output_type": "execute_result"
    }
   ],
   "source": [
    "data.head()"
   ]
  },
  {
   "cell_type": "markdown",
   "metadata": {
    "colab_type": "text",
    "id": "aDaEK88ruabi"
   },
   "source": [
    "<strong>Checking number of duplicates in each data set</strong>"
   ]
  },
  {
   "cell_type": "code",
   "execution_count": 0,
   "metadata": {
    "colab": {
     "base_uri": "https://localhost:8080/",
     "height": 51
    },
    "colab_type": "code",
    "id": "_jiO3VxatlUA",
    "outputId": "27ffacf8-6f6b-4c9e-fc54-b55ec94243be"
   },
   "outputs": [
    {
     "name": "stdout",
     "output_type": "stream",
     "text": [
      "False    14828\n",
      "Name: d, dtype: int64\n"
     ]
    }
   ],
   "source": [
    "print(pd.DataFrame(data.duplicated().values, columns=['d']).d.value_counts())"
   ]
  },
  {
   "cell_type": "markdown",
   "metadata": {
    "colab_type": "text",
    "id": "LGlgsZFEvRoy"
   },
   "source": [
    "<strong>Data sets do not have duplicate rows</strong>"
   ]
  },
  {
   "cell_type": "code",
   "execution_count": 0,
   "metadata": {
    "colab": {
     "base_uri": "https://localhost:8080/",
     "height": 68
    },
    "colab_type": "code",
    "id": "BOGrpgbaIFQp",
    "outputId": "6ab3e7cd-c3b3-4ec6-bc1f-c63801419b65"
   },
   "outputs": [
    {
     "name": "stdout",
     "output_type": "stream",
     "text": [
      "Total number of data points in train data : 9489\n",
      "Total number of data points in test data : 2966\n",
      "Total number of data points in validation data : 2373\n"
     ]
    }
   ],
   "source": [
    "train_size,test_size,val_size  = data.split.value_counts()\n",
    "print('Total number of data points in train data :', train_size)\n",
    "print('Total number of data points in test data :', test_size)\n",
    "print('Total number of data points in validation data :', val_size)\n"
   ]
  },
  {
   "cell_type": "markdown",
   "metadata": {
    "colab_type": "text",
    "id": "yh1Y0ydYWN7k"
   },
   "source": [
    "## Tag Analysis"
   ]
  },
  {
   "cell_type": "code",
   "execution_count": 0,
   "metadata": {
    "colab": {
     "base_uri": "https://localhost:8080/",
     "height": 68
    },
    "colab_type": "code",
    "id": "VpKM1vidRoD4",
    "outputId": "3e47f2a3-d78d-4aed-8591-66f8372bcb40"
   },
   "outputs": [
    {
     "name": "stdout",
     "output_type": "stream",
     "text": [
      "cult, horror, gothic, murder, atmospheric\n",
      "inspiring, romantic, stupid, feel-good\n",
      "revenge, neo noir, murder, violence, flashback\n"
     ]
    }
   ],
   "source": [
    "print(data.tags[0])\n",
    "print(data.tags[3])\n",
    "print(data.tags[10])"
   ]
  },
  {
   "cell_type": "markdown",
   "metadata": {
    "colab_type": "text",
    "id": "VNmskGNPRs5D"
   },
   "source": [
    "<ol>\n",
    "<li>Each tag is separated by cama (',')</li>\n",
    "<li>Get tokenized tags</li>\n",
    "<li>Some of the tags are with '-', ' ' which must be replaced by '_'</li>\n",
    "<li>Count  frequency of each tag</li>\n",
    "</ol>"
   ]
  },
  {
   "cell_type": "code",
   "execution_count": 0,
   "metadata": {
    "colab": {
     "base_uri": "https://localhost:8080/",
     "height": 732
    },
    "colab_type": "code",
    "id": "SEj0B96PtlOe",
    "outputId": "33e40552-a781-404d-eea7-be7e2c0bc03a"
   },
   "outputs": [
    {
     "name": "stderr",
     "output_type": "stream",
     "text": [
      "100%|██████████| 14828/14828 [00:00<00:00, 104666.13it/s]\n"
     ]
    },
    {
     "data": {
      "image/png": "[encoded data removed]",
      "text/plain": [
       "<Figure size 2160x720 with 1 Axes>"
      ]
     },
     "metadata": {
      "tags": []
     },
     "output_type": "display_data"
    },
    {
     "data": {
      "text/plain": [
       "<Figure size 432x288 with 0 Axes>"
      ]
     },
     "metadata": {
      "tags": []
     },
     "output_type": "display_data"
    }
   ],
   "source": [
    "#Taking frequency of each tag\n",
    "\n",
    "\n",
    "tag_count = Counter()\n",
    "\n",
    "for i in tqdm(data.tags):\n",
    "      for j in i.split():\n",
    "            # Updating count of each tag in every itteration\n",
    "            tag_count.update(j.split(',')) \n",
    "\n",
    "# Sorting based on number of times  tag occured\n",
    "tag_count = dict(sorted(tag_count.items(), key = lambda x:x[1], reverse=True))    \n",
    "\n",
    "\n",
    "# Plotting tag count\n",
    "tag_count = dict(tag_count)\n",
    "plt.figure(figsize=(30,10))\n",
    "plt.bar((tag_count.keys()), tag_count.values())\n",
    "plt.xticks(rotation = 90)\n",
    "plt.show()\n",
    "plt.savefig('tag_count.png')"
   ]
  },
  {
   "cell_type": "markdown",
   "metadata": {
    "colab_type": "text",
    "id": "RMEylVVfTTBX"
   },
   "source": [
    "\n",
    "<strong>There is a tag called \"sci-fi\", if we clean the data this tag may be divided into two tags so we shall replace this sci-fi into science_fiction\n",
    "\n",
    "<strong>And tag for first histogram is missing, something went wrong? Lets try to print these tags and their frequencies</li>\n",
    "\n",
    "\n"
   ]
  },
  {
   "cell_type": "markdown",
   "metadata": {
    "colab_type": "text",
    "id": "B2OqM8skmpPD"
   },
   "source": [
    "('absurd', 'absurd')\n",
    "('action', 'action')\n",
    "('adult comedy', 'adult')\n",
    "('allegory', 'allegory')\n",
    "('alternate history', 'alternate')\n",
    "('alternate reality', 'anti')\n",
    "('anti war', 'atmospheric')\n",
    "('atmospheric', 'autobiographical')\n",
    "('autobiographical', 'avant')\n",
    "('avant garde', 'blaxploitation')\n",
    "('blaxploitation', 'bleak')\n",
    "('bleak', 'boring')\n",
    "('boring', 'brainwashing')\n",
    "('brainwashing', 'christian')\n",
    "('christian film', 'claustrophobic')"
   ]
  },
  {
   "cell_type": "code",
   "execution_count": 0,
   "metadata": {
    "colab": {},
    "colab_type": "code",
    "id": "U8Rn4CzXThMo"
   },
   "outputs": [],
   "source": [
    "tag_count"
   ]
  },
  {
   "cell_type": "markdown",
   "metadata": {
    "colab_type": "text",
    "id": "d3VZhp4JSmbX"
   },
   "source": [
    "<strong>So, thats the problem, even space is consedered as a tag, so we must clean the data, we shall use reguler expression library to clean the data</strong>"
   ]
  },
  {
   "cell_type": "code",
   "execution_count": 0,
   "metadata": {
    "colab": {
     "base_uri": "https://localhost:8080/",
     "height": 733
    },
    "colab_type": "code",
    "id": "weOUAuXQwqc9",
    "outputId": "82173fb3-6500-49b8-d913-172e66e54c0c"
   },
   "outputs": [
    {
     "name": "stderr",
     "output_type": "stream",
     "text": [
      "100%|██████████| 14828/14828 [00:00<00:00, 282988.08it/s]\n"
     ]
    },
    {
     "data": {
      "image/png": "[encoded data removed]",
      "text/plain": [
       "<Figure size 2160x720 with 1 Axes>"
      ]
     },
     "metadata": {
      "tags": []
     },
     "output_type": "display_data"
    },
    {
     "data": {
      "text/plain": [
       "<Figure size 432x288 with 0 Axes>"
      ]
     },
     "metadata": {
      "tags": []
     },
     "output_type": "display_data"
    }
   ],
   "source": [
    "cl_tag = []\n",
    "for i in data.tags:\n",
    "    #Substuting (, ) as (,)\n",
    "    cl_tg = re.sub('-','_', i)\n",
    "\n",
    "    cl_tg = re.sub(', ',',',cl_tg)\n",
    "    cl_tg = re.sub(' ','_',cl_tg)\n",
    "    cl_tag.append(cl_tg)\n",
    "\n",
    "\n",
    "tag_count = Counter()\n",
    "for i in tqdm(cl_tag):\n",
    "  for j in i.split():\n",
    "    tag_count.update(j.split(','))\n",
    "\n",
    "tag_count = dict(sorted(tag_count.items(), key = lambda x:x[1], reverse=True))    \n",
    "  \n",
    "tag_count = dict(tag_count)\n",
    "plt.figure(figsize=(30,10))\n",
    "plt.bar((tag_count.keys()), tag_count.values())\n",
    "plt.xticks(rotation = 90)\n",
    "plt.show()\n",
    "plt.savefig('cl_tag_count.png')"
   ]
  },
  {
   "cell_type": "code",
   "execution_count": 0,
   "metadata": {
    "colab": {},
    "colab_type": "code",
    "id": "NHB7DPsI9gI4"
   },
   "outputs": [],
   "source": [
    "# with open('tag_count.pkl','wb') as f:\n",
    "#   pickle.dump(tag_count,f)"
   ]
  },
  {
   "cell_type": "code",
   "execution_count": 0,
   "metadata": {
    "colab": {},
    "colab_type": "code",
    "id": "K_xIKICF9uhc"
   },
   "outputs": [],
   "source": [
    "with open('tag_count.pkl', 'rb') as f:\n",
    "  tag_count = pickle.load(f)\n"
   ]
  },
  {
   "cell_type": "code",
   "execution_count": 0,
   "metadata": {
    "colab": {},
    "colab_type": "code",
    "id": "cUw2z1f3J8gn"
   },
   "outputs": [],
   "source": [
    "#Putting this cleaned taggs into data frame\n",
    "data['clean_tag'] = cl_tag\n",
    "data.to_csv('data.csv', index=False)"
   ]
  },
  {
   "cell_type": "markdown",
   "metadata": {
    "colab_type": "text",
    "id": "qF_o2EBdwQ1Y"
   },
   "source": [
    "### Observations:\n",
    "<ol>\n",
    "<li>Most of the tags appear less than 1000 times</li>\n",
    "<li>Only eight of the tags are appeared more than 1000 times</li>\n",
    "<li>Murder is the tag that appeared max number of times i.e almost 6000 times</li>\n",
    "</ol>"
   ]
  },
  {
   "cell_type": "code",
   "execution_count": 0,
   "metadata": {
    "colab": {
     "base_uri": "https://localhost:8080/",
     "height": 34
    },
    "colab_type": "code",
    "id": "lHgnWh0Mp_H6",
    "outputId": "6d8cb35d-01e1-462a-cab3-8a76b92ae76e"
   },
   "outputs": [
    {
     "name": "stdout",
     "output_type": "stream",
     "text": [
      "Total number of unique tags: 71\n"
     ]
    }
   ],
   "source": [
    "print('Total number of unique tags:', len(tag_count))"
   ]
  },
  {
   "cell_type": "markdown",
   "metadata": {
    "colab_type": "text",
    "id": "ecibnTdFJGCj"
   },
   "source": [
    "## Tags Per Each Movie"
   ]
  },
  {
   "cell_type": "code",
   "execution_count": 0,
   "metadata": {
    "colab": {
     "base_uri": "https://localhost:8080/",
     "height": 635
    },
    "colab_type": "code",
    "id": "Jsr6aEk5_Gqq",
    "outputId": "7a6a1231-eb5b-4614-e165-ae2fe2ab3f65"
   },
   "outputs": [
    {
     "data": {
      "image/png": "[encoded data removed]",
      "text/plain": [
       "<Figure size 3600x720 with 1 Axes>"
      ]
     },
     "metadata": {
      "tags": []
     },
     "output_type": "display_data"
    },
    {
     "data": {
      "text/plain": [
       "<Figure size 432x288 with 0 Axes>"
      ]
     },
     "metadata": {
      "tags": []
     },
     "output_type": "display_data"
    }
   ],
   "source": [
    "no_tags = []\n",
    "\n",
    "for i in data.clean_tag:\n",
    "      \n",
    "      no_tags.append(len(i.split(',')))\n",
    "\n",
    "plt.figure(figsize=(50,10))\n",
    "sns.countplot(no_tags)\n",
    "plt.xticks(rotation = 90)\n",
    "plt.show()\n",
    "plt.savefig('no_tags.png')      "
   ]
  },
  {
   "cell_type": "code",
   "execution_count": 0,
   "metadata": {
    "colab": {},
    "colab_type": "code",
    "id": "fzM9IWyP-VWV"
   },
   "outputs": [],
   "source": [
    "# with open('no_tags.pkl','wb') as f:\n",
    "#   pickle.dump(no_tags,f)"
   ]
  },
  {
   "cell_type": "code",
   "execution_count": 0,
   "metadata": {
    "colab": {},
    "colab_type": "code",
    "id": "jtlTHgyg-lUc"
   },
   "outputs": [],
   "source": [
    "with open('no_tags.pkl','rb') as f:\n",
    "  no_tags = pickle.load(f)"
   ]
  },
  {
   "cell_type": "markdown",
   "metadata": {
    "colab_type": "text",
    "id": "9D7DlTGOQ0C6"
   },
   "source": [
    "## Observations:\n",
    "<ol>\n",
    "<li>Most of the movies have 1 or 2 number of tags</li>\n",
    "<li>Almost above 5000 movies have only one tag</li>\n",
    "<li>Maximum number of tags is 25</li>\n",
    "<li>Minimum number of tags is 1</li>"
   ]
  },
  {
   "cell_type": "code",
   "execution_count": 0,
   "metadata": {
    "colab": {
     "base_uri": "https://localhost:8080/",
     "height": 621
    },
    "colab_type": "code",
    "id": "I92ps4F7FtTX",
    "outputId": "02fc6ade-d491-4820-e415-3b9f1934a744"
   },
   "outputs": [
    {
     "data": {
      "image/png": "[encoded data removed]",
      "text/plain": [
       "<Figure size 1080x720 with 1 Axes>"
      ]
     },
     "metadata": {
      "tags": []
     },
     "output_type": "display_data"
    }
   ],
   "source": [
    "plt.figure(figsize=(15,10))\n",
    "plt.title('Number of tags for each movie')\n",
    "plt.xlabel('Movie Number')\n",
    "plt.ylabel('Number of Tags')\n",
    "plt.bar(np.array([i for i in range(len(no_tags))]),sorted(no_tags))\n",
    "plt.show()"
   ]
  },
  {
   "cell_type": "markdown",
   "metadata": {
    "colab_type": "text",
    "id": "SwQOQlbVH0-I"
   },
   "source": [
    "##  Observations:\n",
    "\n",
    "<ol>\n",
    "<li>Almost 5500 movies have only one tag</li>\n",
    "<li>Nearly 3500 movies have two tags</li>"
   ]
  },
  {
   "cell_type": "code",
   "execution_count": 0,
   "metadata": {
    "colab": {
     "base_uri": "https://localhost:8080/",
     "height": 68
    },
    "colab_type": "code",
    "id": "6JKY47LSFtdq",
    "outputId": "e4ae3a1f-ab21-449b-8f71-3bf52fc55edf"
   },
   "outputs": [
    {
     "name": "stdout",
     "output_type": "stream",
     "text": [
      "Maximum number of tags is 25\n",
      "Mainimum number of tags is 1\n",
      "Average number of tags is  2.9812516859994607\n"
     ]
    }
   ],
   "source": [
    "print('Maximum number of tags is',max(no_tags))\n",
    "print('Mainimum number of tags is',min(no_tags))\n",
    "print('Average number of tags is ', sum(no_tags)/len(no_tags))\n"
   ]
  },
  {
   "cell_type": "code",
   "execution_count": 0,
   "metadata": {
    "colab": {
     "base_uri": "https://localhost:8080/",
     "height": 487
    },
    "colab_type": "code",
    "id": "JglcL2c-FtYL",
    "outputId": "653373fc-66fb-48e7-e19b-187ed3d3ffa1"
   },
   "outputs": [
    {
     "data": {
      "image/png": "[encoded data removed]",
      "text/plain": [
       "<Figure size 1080x720 with 1 Axes>"
      ]
     },
     "metadata": {
      "tags": []
     },
     "output_type": "display_data"
    },
    {
     "data": {
      "text/plain": [
       "<Figure size 432x288 with 0 Axes>"
      ]
     },
     "metadata": {
      "tags": []
     },
     "output_type": "display_data"
    }
   ],
   "source": [
    "plt.figure(figsize=(15,10), facecolor='k')\n",
    "\n",
    "plt.imshow(WordCloud(contour_color='firebrick').generate_from_frequencies(tag_count))\n",
    "plt.show()\n",
    "plt.savefig('word_cloud.png')"
   ]
  },
  {
   "cell_type": "markdown",
   "metadata": {
    "colab_type": "text",
    "id": "PNrOzoyJt8ZB"
   },
   "source": [
    "## Observations\n",
    "\n",
    "<ol>\n",
    "<li>Tag that is with most frequency is murder and violence</li>\n",
    "<li>Next important tags are flashback, romantic, revenge, cult and comedy</li>\n",
    "</li>"
   ]
  },
  {
   "cell_type": "code",
   "execution_count": 0,
   "metadata": {
    "colab": {},
    "colab_type": "code",
    "id": "dqtftMuklzsI"
   },
   "outputs": [],
   "source": []
  },
  {
   "cell_type": "code",
   "execution_count": 0,
   "metadata": {
    "colab": {
     "base_uri": "https://localhost:8080/",
     "height": 357
    },
    "colab_type": "code",
    "id": "cry8DyzCELEw",
    "outputId": "c6a61859-1f00-4cfe-c2bb-ace36237a4f9"
   },
   "outputs": [
    {
     "data": {
      "text/html": [
       "<div>\n",
       "<style scoped>\n",
       "    .dataframe tbody tr th:only-of-type {\n",
       "        vertical-align: middle;\n",
       "    }\n",
       "\n",
       "    .dataframe tbody tr th {\n",
       "        vertical-align: top;\n",
       "    }\n",
       "\n",
       "    .dataframe thead th {\n",
       "        text-align: right;\n",
       "    }\n",
       "</style>\n",
       "<table border=\"1\" class=\"dataframe\">\n",
       "  <thead>\n",
       "    <tr style=\"text-align: right;\">\n",
       "      <th></th>\n",
       "      <th>imdb_id</th>\n",
       "      <th>title</th>\n",
       "      <th>plot_synopsis</th>\n",
       "      <th>tags</th>\n",
       "      <th>split</th>\n",
       "      <th>synopsis_source</th>\n",
       "      <th>clean_tag</th>\n",
       "      <th>no_tags</th>\n",
       "    </tr>\n",
       "  </thead>\n",
       "  <tbody>\n",
       "    <tr>\n",
       "      <th>0</th>\n",
       "      <td>tt0057603</td>\n",
       "      <td>I tre volti della paura</td>\n",
       "      <td>Note: this synopsis is for the orginal Italian...</td>\n",
       "      <td>cult, horror, gothic, murder, atmospheric</td>\n",
       "      <td>train</td>\n",
       "      <td>imdb</td>\n",
       "      <td>cult,horror,gothic,murder,atmospheric</td>\n",
       "      <td>5</td>\n",
       "    </tr>\n",
       "    <tr>\n",
       "      <th>1</th>\n",
       "      <td>tt1733125</td>\n",
       "      <td>Dungeons &amp; Dragons: The Book of Vile Darkness</td>\n",
       "      <td>Two thousand years ago, Nhagruul the Foul, a s...</td>\n",
       "      <td>violence</td>\n",
       "      <td>train</td>\n",
       "      <td>imdb</td>\n",
       "      <td>violence</td>\n",
       "      <td>1</td>\n",
       "    </tr>\n",
       "    <tr>\n",
       "      <th>2</th>\n",
       "      <td>tt0033045</td>\n",
       "      <td>The Shop Around the Corner</td>\n",
       "      <td>Matuschek's, a gift store in Budapest, is the ...</td>\n",
       "      <td>romantic</td>\n",
       "      <td>test</td>\n",
       "      <td>imdb</td>\n",
       "      <td>romantic</td>\n",
       "      <td>1</td>\n",
       "    </tr>\n",
       "    <tr>\n",
       "      <th>3</th>\n",
       "      <td>tt0113862</td>\n",
       "      <td>Mr. Holland's Opus</td>\n",
       "      <td>Glenn Holland, not a morning person by anyone'...</td>\n",
       "      <td>inspiring, romantic, stupid, feel-good</td>\n",
       "      <td>train</td>\n",
       "      <td>imdb</td>\n",
       "      <td>inspiring,romantic,stupid,feel_good</td>\n",
       "      <td>4</td>\n",
       "    </tr>\n",
       "    <tr>\n",
       "      <th>4</th>\n",
       "      <td>tt0086250</td>\n",
       "      <td>Scarface</td>\n",
       "      <td>In May 1980, a Cuban man named Tony Montana (A...</td>\n",
       "      <td>cruelty, murder, dramatic, cult, violence, atm...</td>\n",
       "      <td>val</td>\n",
       "      <td>imdb</td>\n",
       "      <td>cruelty,murder,dramatic,cult,violence,atmosphe...</td>\n",
       "      <td>10</td>\n",
       "    </tr>\n",
       "  </tbody>\n",
       "</table>\n",
       "</div>"
      ],
      "text/plain": [
       "     imdb_id  ... no_tags\n",
       "0  tt0057603  ...       5\n",
       "1  tt1733125  ...       1\n",
       "2  tt0033045  ...       1\n",
       "3  tt0113862  ...       4\n",
       "4  tt0086250  ...      10\n",
       "\n",
       "[5 rows x 8 columns]"
      ]
     },
     "execution_count": 42,
     "metadata": {
      "tags": []
     },
     "output_type": "execute_result"
    }
   ],
   "source": [
    "# sum(no_tags)/len(no_tags)\n",
    "data['no_tags'] = no_tags\n",
    "# Saving data frame\n",
    "data.to_csv('data.csv', index=False)\n",
    "data.head()"
   ]
  },
  {
   "cell_type": "markdown",
   "metadata": {
    "colab_type": "text",
    "id": "AhlpLS7vjtvS"
   },
   "source": [
    "## Top 10 Tags"
   ]
  },
  {
   "cell_type": "code",
   "execution_count": 0,
   "metadata": {
    "colab": {
     "base_uri": "https://localhost:8080/",
     "height": 524
    },
    "colab_type": "code",
    "id": "KRTOq-ONFtQZ",
    "outputId": "bd4b40cd-8ee2-4fce-eb38-9ab94078b56e"
   },
   "outputs": [
    {
     "data": {
      "image/png": "[encoded data removed]",
      "text/plain": [
       "<Figure size 720x504 with 1 Axes>"
      ]
     },
     "metadata": {
      "tags": []
     },
     "output_type": "display_data"
    },
    {
     "data": {
      "text/plain": [
       "<Figure size 432x288 with 0 Axes>"
      ]
     },
     "metadata": {
      "tags": []
     },
     "output_type": "display_data"
    }
   ],
   "source": [
    "plt.figure(figsize=(10,7))\n",
    "plt.bar(list(tag_count.keys())[:10], list(tag_count.values())[:10])\n",
    "plt.xticks(rotation = 90)\n",
    "plt.show()\n",
    "plt.savefig('top_10_tag.png')"
   ]
  },
  {
   "cell_type": "markdown",
   "metadata": {
    "colab_type": "text",
    "id": "7kxipWNdO8fh"
   },
   "source": [
    "## Cleaning & Preprocessing Data\n"
   ]
  },
  {
   "cell_type": "markdown",
   "metadata": {
    "colab_type": "text",
    "id": "wjjcGuwSZHZq"
   },
   "source": [
    "### Finding Out Special Charecters Present In Our Data"
   ]
  },
  {
   "cell_type": "code",
   "execution_count": 0,
   "metadata": {
    "colab": {},
    "colab_type": "code",
    "id": "SL_XdYjZTN6K"
   },
   "outputs": [],
   "source": [
    "t =[i for i in string.ascii_lowercase]\n",
    "t.extend([i for i in string.ascii_uppercase])\n",
    "\n",
    "chars = []\n",
    "for i in data.plot_synopsis:\n",
    "  for j in i:\n",
    "    if j not in t:\n",
    "        chars.append(j)\n",
    "        temp = j\n",
    "\n",
    "\n",
    "special_chars = list(set(chars))    "
   ]
  },
  {
   "cell_type": "code",
   "execution_count": 0,
   "metadata": {
    "colab": {},
    "colab_type": "code",
    "id": "buLXX_SVKlls"
   },
   "outputs": [],
   "source": [
    "special_chars"
   ]
  },
  {
   "cell_type": "markdown",
   "metadata": {
    "colab_type": "text",
    "id": "PedUMWsZin4v"
   },
   "source": [
    "<strong>We found chainese characters in the special charecters, so we shall try to replace those chinese characters with english meaning</strong>"
   ]
  },
  {
   "cell_type": "code",
   "execution_count": 0,
   "metadata": {
    "colab": {},
    "colab_type": "code",
    "id": "FrmcPSU2iBAR"
   },
   "outputs": [],
   "source": [
    "!pip install googletrans"
   ]
  },
  {
   "cell_type": "code",
   "execution_count": 0,
   "metadata": {
    "colab": {},
    "colab_type": "code",
    "id": "ogKrXWfTiFQs"
   },
   "outputs": [],
   "source": [
    "from googletrans import Translator"
   ]
  },
  {
   "cell_type": "code",
   "execution_count": 0,
   "metadata": {
    "colab": {
     "base_uri": "https://localhost:8080/",
     "height": 34
    },
    "colab_type": "code",
    "id": "UCPALZ0IjK_4",
    "outputId": "ff873c95-34b4-4ad6-8131-43ee4a78da31"
   },
   "outputs": [
    {
     "name": "stderr",
     "output_type": "stream",
     "text": [
      "100%|██████████| 605/605 [00:39<00:00, 14.71it/s]\n"
     ]
    }
   ],
   "source": [
    "# https://pypi.org/project/googletrans/\n",
    "\n",
    "trans = Translator() # Google Translator\n",
    "\n",
    "special_chars_meaning = {}\n",
    "for i in tqdm(special_chars, position=0):\n",
    "  \n",
    "    special_chars_meaning[i] = trans.translate(i).text\n",
    "    # print(trans.translate(i).text)\n",
    "  \n"
   ]
  },
  {
   "cell_type": "code",
   "execution_count": 0,
   "metadata": {
    "colab": {},
    "colab_type": "code",
    "id": "uvoBkZk4rMxc"
   },
   "outputs": [],
   "source": [
    "special_chars_meaning"
   ]
  },
  {
   "cell_type": "code",
   "execution_count": 0,
   "metadata": {
    "colab": {
     "base_uri": "https://localhost:8080/",
     "height": 51
    },
    "colab_type": "code",
    "id": "YVWqSiLujMjP",
    "outputId": "79f7f340-dca0-4e19-e412-e954b4c0b0b0"
   },
   "outputs": [
    {
     "name": "stdout",
     "output_type": "stream",
     "text": [
      "[nltk_data] Downloading package stopwords to /root/nltk_data...\n",
      "[nltk_data]   Unzipping corpora/stopwords.zip.\n"
     ]
    }
   ],
   "source": [
    "nltk.download('stopwords')\n",
    "\n",
    "stopwords = stopwords.words('english')"
   ]
  },
  {
   "cell_type": "code",
   "execution_count": 0,
   "metadata": {
    "colab": {
     "base_uri": "https://localhost:8080/",
     "height": 54
    },
    "colab_type": "code",
    "id": "8cYunEhgrlJR",
    "outputId": "334a49ce-2919-4bed-af95-06dc9901bdc0"
   },
   "outputs": [
    {
     "data": {
      "text/plain": [
       "\"i,me,my,myself,we,our,ours,ourselves,you,you're,you've,you'll,you'd,your,yours,yourself,yourselves,he,him,his,himself,she,she's,her,hers,herself,it,it's,its,itself,they,them,their,theirs,themselves,what,which,who,whom,this,that,that'll,these,those,am,is,are,was,were,be,been,being,have,has,had,having,do,does,did,doing,a,an,the,and,but,if,or,because,as,until,while,of,at,by,for,with,about,against,between,into,through,during,before,after,above,below,to,from,up,down,in,out,on,off,over,under,again,further,then,once,here,there,when,where,why,how,all,any,both,each,few,more,most,other,some,such,no,nor,not,only,own,same,so,than,too,very,s,t,can,will,just,don,don't,should,should've,now,d,ll,m,o,re,ve,y,ain,aren,aren't,couldn,couldn't,didn,didn't,doesn,doesn't,hadn,hadn't,hasn,hasn't,haven,haven't,isn,isn't,ma,mightn,mightn't,mustn,mustn't,needn,needn't,shan,shan't,shouldn,shouldn't,wasn,wasn't,weren,weren't,won,won't,wouldn,wouldn't\""
      ]
     },
     "execution_count": 51,
     "metadata": {
      "tags": []
     },
     "output_type": "execute_result"
    }
   ],
   "source": [
    "','.join(stopwords)"
   ]
  },
  {
   "cell_type": "code",
   "execution_count": 0,
   "metadata": {
    "colab": {},
    "colab_type": "code",
    "id": "DZ7RT7m2zKmz"
   },
   "outputs": [],
   "source": [
    "stemmer = SnowballStemmer('english')\n"
   ]
  },
  {
   "cell_type": "code",
   "execution_count": 0,
   "metadata": {
    "colab": {
     "base_uri": "https://localhost:8080/",
     "height": 292
    },
    "colab_type": "code",
    "id": "aJHtIL-lrQXg",
    "outputId": "dfb36986-6ca2-445e-f2dd-abdb6eaf816c"
   },
   "outputs": [
    {
     "name": "stdout",
     "output_type": "stream",
     "text": [
      "George Falconer (Colin Firth) approaches a car accident in the middle of a snow-white scenery. There is a bloodied man there and he kisses him. He wakes up: he was dreaming about the moment when his partner of 16 years, Jim (Mathew Goode), died--though he was not there with him because Jim was visiting his disapproving family on his own. George remembers the phone ringing on that fateful day, when Jim's cousin told him about the fatal accident, and how George was not welcome to attend the funeral, because of the family's homophobia (common for the period and later). George remembers breaking down to Charley (Julianne Moore) that day, his best friend from his life in London, who had also relocated to LA; once briefly sexually attached to George before he was completely honest with himself, she may still feel attracted to him.George showers and dresses. It's November 30, 1962, the eve of the Cuban missile crisis. Though British, he is now a professor of English at UCLA. He is depressed, never having recovered from his loss; and when he leaves for work, he packs a gun in his briefcase.He tells his cleaning lady Alva (Paulette Lamori) that she has always been wonderful - in spite of her having forgotten to take out the bread from the fridge. George hugs her, which leaves her utterly confused.On campus, George notices a couple of students, chain-smoking Lois (Nicole Steinwedell) and a boy. One of the secretaries (Keri Lynn Pratt) tells him that she has given his address to some nice new student; it turns out to be this boy, Kenny Potter (Nicholas Hoult), who talks to him after class about the speech George has just given out in the classroom concerning minorities and fear. Kenny discusses recreational drug use with Kenny who tells him that he had never heard George express himself so openly in class as he had that day. He buys George a pencil sharpener as a token of gratitude for George's talking with him.George phones Charley, who is dressing for the dinner they have planned at her home. George gets into his car, and picks his gun after having cleaned up his office. However, Kenny appears once again, and invites him to go for a drink, observing George's depression and having noticed that he has cleaned out the desk in his office. George tells him it will have to be some other time. He goes to the bank to pick up various things from his safe deposit box, and when looking at a photo of his deceased lover, recalls a conversation with him on the beach.After buying some bullets, he goes to a convenience store. There, Carlos (Jon Kortajarena) bumps onto him, breaking the bottle of Scotch he has just bought. George buys a new bottle of Scotch and they talk. They smoke a few cigarettes and drink a bottle of gin together. George leaves, refusing Carlos' offer of company, saying that this is a serious day for him and that he's trying to get over an old love.At home, he puts on a record and remembers a conversation with Jim while each one was reading a different book on a couch. He pretends shooting himself as practice for later that night, but in a semi-comic scene, can't find the best position in which to accomplish it. Charley calls to remind him of their dinner plans, which he grudgingly attends after leaving a note and some money for Alva. They dance and talk about London, life, Charley's ex-husband's abandonment, and she offends George by suggesting that they might have had a \"normal\" life together if he hadn't been a \"poof.\" Charley says George doesn't look well, reminding him of the heart attack he suffered near the time of Jim's death. Charley tries to convince George to spend the night at her home, but he leaves.The scene flashes back to 1946 when Jim and George had met when at a bar. Jim was on leave from the Army, right after the second world war. Returning to1962, we see George returning to the same bar, near his home; now a quiet place where he asks for a Scotch.Kenny has followed him there. They talk and then go to the beach and swim naked. They go to George's place. As George's forehead is bleeding, Kenny tends to it, and sees in the medicine's cabinet a nude photo of Jim. George sees Kenny strip off his wet clothes, but does nothing. Kenny says that he and Lois are not romantically involved. Not unlike George and Charley in the distant past, Kenny explains that they had a brief sexual liason. Kenny and George do not have sex, and Kenny stays on the couch, given the very late hour.George wakes in a few hours, and finds his gun under Kenny's covers and removes it, locking it up as Kenny sleeps. When he returns to bed, George dies of a heart attack, seeing the image of Jim kissing his forehead.\n",
      "==================================================\n",
      "Hours after the end of the previous game and the death of the traitorous General Shepard, the remnants of Task Force 141 (TF141) Captain John Price (Billy Murray), John Soap MacTavish (Kevin McKidd) and Prices pilot/informant Nikolai have fled Afghanistan to a safe house belonging to Nikolai's allies. Soap is critically wounded and the whole team is wanted for war crimes they didn't commit. Shortly after they arrive, forces under the command of Ultranationalist terrorist Vladimir Makarov (Roman Varshavsky) attack to try to kill them. Nikolais best soldier, a man named Yuri (Brian Bloom) , joins the team and helps Price and Nikolai evacuate the team to safetyMeanwhile, in New York City, a Delta Force unit named Team Metal is activated. The team is led by a squad leader code-named \"Sandman\" (William Fichtner) and Sgt. Derek \"Frost\" Westbrook . They are tasked with taking out as Russian jammer tower on the roof of the New York Stock Exchange which is preventing American air attacks. The team fights it's way through the city, into the trading floor and up onto the roof where they destroy the tower. They are evacuated from the roof by a Blackhawk gunship and they fight their way to safety, destroying several Mi-24 Hind gunships along the way. The American Air Force then establishes air superiority over the city. Next, Team Metal rendezvous with a team of Navy SEALS to infiltrate a Russian Oscar II submarine being used as a command vessel. They force it to surface and take control of the boat. Sandman and Frost use the sub's weapons against the Russian fleet in the harbor and then escape the vessel. These twin American victories, together with victories in the Washington DC area (from the previous game) prompt the Russians to evacuate the United StatesTwo months later, Russian President Boris Vorshevsky proposes a ceasefire. He heads to a summit meeting with the American Vice President in Hamburg, Germany. This action enrages the hardliners in his government and they side with Makarov. The President's plane is hijacked on the way to the summit by Makarov's forces and the President is captured. Makarov demands that Vorshevsky give him the nuclear launch codes, which he refuses.Makarovs actions prompt TF141 to take action. Yuri's intelligence reported that Makarov was moving some cargo from Sierra Leone to Europe. Makarov was using a local militia as security and building his weapons in Africa. TF141, consisting of Price, a recovered Soap and Yuri sneak into the village. They investigate the factory, only to find it abandoned. The militia then attacks, both with technical and Mortar teams. TF141 neutralizes the enemies and heads to the militia HQ, a local church. They are able to eliminate all the enemies there but they just miss the shipment. Information at the militia headquarters reveals that Makarov was smuggling WMDs using a company called Fregata EnterprisesWestern intelligence learns that one of Makarov's shipments is headed to London. A SAS team led by Sgt. Wallcroft and Sgt. Marcus Burns tries to intercept the shipment, first at the docks and then in a harrowing chase through the London Underground. They are able to catch up to the truck, only to learn it was a decoy. A mile or so away, an American tourist family are on their way to see Big Ben. As the child runs up to the corner, a white truck come stops at the curb and two men run away from the vehicle. Moments late the chemical weapons bomb in the truck exploded. All caught on the tourist camcorder. This would be just one of a series of chemical attacks in Western capitals that day with the intent of crippling Western response to Russian aggression. When the smoke cleared, it was determined that thousands had died in a terrorist attack even worse than 9-11. Taking advantage of the chaos, the Russian army attacked Western Europe, occupying much of the continentNATO responds by sending a force to liberate Hamburg. Task Force Metal was sent along with them to do another mission--rescue the American Vice President, who was being held by Makarovs forces. Frost and the rest of Team Metal fight alongside the invasion force and push their way into the city. At that point Frost joins a tank crew and takes the vehicle into a parking garage fighting all the way. At the end the team get out onto the streets, searching for the Vice President convoy. They find it a few blocks away, with no one there. They head into another building where they rescue the Vice President.Price contacts his former commander, MacMillan, now in command of the SAS. MacMillan gives Price intel on the attacks, namely that Makarov's African contact, a Somali warlord named Waraabe was responsible for providing the chemical weapons and he was at his compound in Bosasso, Somalia. Price and his team head into Waraabe's compound just ahead of a huge sandstorm. The team enters the compound engaging the warlord's forces. Nikolai gives Yuri remote command of a mini-gun on the chopper. He uses it to cut down many of the enemy forces. Price Soap and Yuri fight their way into Waraabe's headquarters. They breach the door to his office and take out the guards, capturing Waraabe.Price and the team put on their gas masks and Price threatens Waraabe with the gas. He makes Waraaabe reveal his contact, an arms dealer named Volk, the man behind Fregatta Enterprises. Price then kills Waraabe for his role in killing so many thousands of people. When the team tries to leave, they are attacked by the rest of the militia. With the sandstorm bearing down, they push forward to the landing zone. The sandstorm comes too fast and the chopper goes down. The team fights their way to the crash site to rescue Nikolai. The storm reduces visibility to a few feet. The team makes it to the crash site and they flee to a vehicle to escape the compoundArmed with this information, Price contacts Sandman and tells him about Volk. Team Metal then heads to Paris to link up with French Intelligence. Team Metal and the French forces fought through the streets of Paris, still filled with clouds of toxic gas. They used a couple of airstrikes to take out the vehicles in their way and made it to the catacombs under the city. The joint team slipped through the passageways until they found Volk's headquarters. Volk fled when the team arrived with Frost in hot pursuit. They emerged onto the streets and Volk fled away in his car. The team got into their vehicle and chased Volk. They caught up to Volk and ran his car off the road, capturing him.Because the city was a war zone, Team Metal needed to fight their way to the landing zone so they could escape with their prisoner. The team moved for several blocks only to be blocked by an armor column. They are given air support by an AC-130 gunship which clears their way to the US Embassy. The team is pinned down by an implanted machine gun nest, but Frost moves to the flanks and takes out the enemy with a sniper rifle. The team fights on and then make a mad dash through the city getting support from the gunship until they reached the Eiffel Tower. There, they fought a pitched battle with the enemy. With the help of air support the team was able to clear the way to the landing zone. The Tower fell during the battleVolk revealed the whole conspiracy under questioning. He revealed that Makarov was holding a war council with his allies in a hotel in Prague, Czech Republic. Sandman gave the intel to Price who was already in Prague. Price intended to assassinate Makarov at the meeting. Yuri and Soap slipped into the city. Because the city was under Russian lockdown, they needed extreme stealth. They got into the center of the city, but couldn't get to their target because of the enemy forces. At that point, local Resistance fighters launched a diversionary attack (it was arranged by Price and his ally Kamarov). The team fought their way through the city and got to their target, a church overlooking the hotel where the meeting was scheduled.Hours later, Price was at the hotel and Yuri and Soap were waiting across the street in the church with sniper rifles, waiting for Makarov. The convoy showed up, but Makarov wasnt there. He anticipated the attack and booby trapped both the church and hotel (he strapped the explosives to the captured Kamarov). Makarov sent a message \"You shouldnt have come here, Yuri\". Soap realized that Makarov and Yuri knew each other. The bombs went off Price managed to escape, but when the bomb went off in the church, Soap and Yuri fell to the ground. Soap was badly injured.Yuri and Price fought their way to the safehouse in a frantic attempt to get aid for the severely wounded Soap. They survived to make it to safety. They tried to save Soap, but he died. In his dying words, he gasped \"Makarov knows Yuri\". Price and Yuri left the room and Price punched Yuri down the nearby stairs, jamming a Desert Eagle pistol in Yuris face \"Tell me how the bloody hell Makarov knows you\"Yuri began his story, telling of how he and Makarov were working for Imran Zakhaev since the 1996 incident in Pripyat--near the site of the Chernobyl power plant (when Price tried to kill Zakhaev, but just wounded him) and the moment when Makarov ordered the detonation of the Nuke that destroyed a city, and killed over 30,000 American soldiers. Yuri also told of how he tried to stop Makarov's terrorist attack on the Moscow airport--he revealed the plot to Russian security services and was shot by Makarov for doing this. During the massacre he followed Makarov, despite his wounds in an attempt to stop him but he couldn't. At that point Price decides to still believe Yuri--for now.Price and Yuri go to the only other place in the area where Makarov's people are believed to be, a medieval castle. They slip into the compound, planting C4 on various parts of the building and infiltrate the command center. They continue on and slip up to the main office of the building. They learn that Makarov is still pressuring President Vorshevsky for the launch codes and that Makarov has learned where Vorshevsky's daughter Alena was being hidden in Berlin. Price and Yuri escape from the castle and send a message to Team Metal about Makarovs plans to capture Alena to force Vorshevsky to give up the codes.Team Metal and other American forces contact Alena Vorshevsky and she reveals where she is hiding and that her protection detail has been killed. Metal fights their way to the roof of a nearby building with the plan of providing cover for Team Granite, who was going to perform the rescue. Frost as his team take control of the roof and Frost used a sniper rifle to clear the adjoining rood. Team Granite arrives on the roof and moves to enter the building, while a column of Russian tanks approach the building Frost calls an A-10 strike on the column to protect the American forces. The tanks are destroyed, but Team Granite is killed by additional enemy forces in the building. Sandman then ordered Metal to go to the hotel, knowing they would have to rescue Alena themselves. They fought their way through the city, supported by a German armor column. They nearly reach the building only to have the Russians destroy another building, dropping the rubble on the team. Team Metal slips through the collapsed building and gets to the hotel where Alena was hiding. They fight through the building, climbing up to the fifth floor, only to learn Alena wasn't there anymore. Frost and Sandman climb up to the roof they rush to save Alena, but they are too late--Makarovs men took her away by chopper and Frost was badly wounded.Knowing that Vorshevsky wouldnt be able to hold out now that Makarov had his daughter, Team Metal (minus the wounded Frost) and TF 141 launch a joint rescue mission. They knew that Makarov was holding his hostages in a diamond mind in Siberia. The two teams fight their way through the building supporting the diamond mine and get to the outside. They fight their way through the construction area supported by Predator strikes until they reach the command center. They go through the building until they reach the room where Makarov's men were torturing Alena. Team metal rescues a wounded Alena, who tells them Makarov's men took her father deeper into the mine. The two teams press on deeper into the mine, where they find the team guarding President Vorshevsky. Yuri shoots the terrorist holding Vorshevsky with a sniper shot and the teams move him to the rescue chopper. The terrorists counterattack, Price and Yuri get the president into the chopper as Team Metal covers their escape. Price wanted to help them escape also, but Sandman tells him to save the President. TF141 escapes with the Presient while the mine collapses killing Team MetalAfter President Vorshevsky is rescued, the summit goes on as planned and the war comes to an end. In Moscow, Makarov's political allies are purged out of the government and Vorshevsky forms an Ultranationalist-Loyalist coalition government. As a result of their heroics in saving Vorshevsky and the revelation of General Shepard's duplicity, Task Force 141 is cleared of all charges. This clears the task force to do one last mission--Kill Makarov. They discover that Makarov and his remaining forces have set up shop in Dubai. Price and Yuri arrive in Dubai and head to Makarov's HQ--the Hotel Oasis. Equipped with Juggernaut suits they storm into the hotel lobby, taking out Makarov's guards as they go. They head up in the elevator only to have it attacked by a helicopter. Their armor is damaged and they have to shed it. Price and Yuri head up to the restaurant on the top floor. They fight Makarov's guards and Yuri is severely wounded as Makarov flees to the roof. Yuri implores Price to leave him and go after Makarov. Price sprints onto the roof and jumps onto Makarov's chopper just as it was leaving. Price kills the two pilots and takes the chopper. It crashes onto the roof, wounding both Price and Makarov. Makarov moves to kill Price, but Yuri clambers up onto the roof to stop him. Makarov kills Yuri, giving Price the distraction he needed. Price wraps the cable around Makarov's neck and hangs him. Price then has a victory cigar as he watches Makarovs corpse hang in front of him\n",
      "==================================================\n",
      "The film is set in a small Oregon town, where a brutal serial killer nicknamed the 'Oregon undertaker' has been murdering and mutilating young women.\n",
      "Charlie (David Schwimmer) is an ex-teacher turned disaffected call center employee who is fired on his first day. Distraught at being unable to provide for his daughter Emily and policewoman wife Penelope (Natascha McElhone), he is approached by former colleague Gus (Simon Pegg), an aspiring scam artist who presents Charlie with a seemingly snag-free plan to make some cash: blackmail Reverend Smalls, who is listed in the company database of visitors to illegal porn websites. Gus plans on extorting money from Reverend Smalls, with the intention of publicly exposing his secret shame should he refuse to pay. The normally cautious Charlie reluctantly agrees to play a part in the scam, confident that with the money he will garner from the deal he would be able to support his family. A teenage pageant queen Josie McBroom (Alice Eve), Gus's scheming one-night stand, forces herself into the scheme. Josie convinces Charlie and Gus that she should make the call to Smalls on the grounds that if either of them called, the police could trace their voices and connect them to the job.\n",
      "The plan goes into action, and Gus goes to Smalls' house where he is surprised by the Reverend wielding a gun. From outside the house two shots are heard. At the same time, Charlie arrives at the bar to explain his and Gus' alibi, only to find out that the blind owner of the gas station where Gus has supposedly gone is at the bar celebrating his 80th birthday. Charlie runs away and goes to Smalls' house, where he finds the Reverend dead. Scared, he drags the body outside, and dumps him into a nearby septic tank. He goes back inside the house, tries to call Josie. He then finds Gus and learns that the Reverend shot Gus in the leg, explaining the blood near the corpse. After the first shot, Gus hit the Reverend over the head with a vase, leaving him alive but unconscious. Gus and Charlie leave the house to escape the scene of the crime, but Charlie remembers that he left Josie's card inside. They go back and get it, but in the process Gus stumbles upon a hidden DVD collection of the Reverend. They put one in, and find a video of the Reverend killing and torturing a young girl. They try to flee the house, but are immediately met by a deputy police officer outside the door. The policeman explains that the Reverend was found dead, with three bullet holes in his head.\n",
      "Charlie lets in the policeman, who notices some blood on the floor. Charlie, in the kitchen, grabs a knife and cuts himself, and then goes back to the policeman to explain that he cut himself on a vase. Right before leaving, the policeman decides to see what Charlie had been watching, much to Charlie's protests. He presses play, and watches the beginning of a children's movie Gus had secretly switched in. Satisfied, he leaves the house, but finds marks in the ground that look like someone had been dragged. Charlie follows the policeman to the end of the drag marks, the septic tank. As Charlie is about to open it, Gus smashes a vase against the head of the deputy, who is promptly dragged inside.\n",
      "Inside, Charlie panics about the murder of the Reverend and the kidnapping of a policeman and leaves, where he is met by the Reverend's wife (Mimi Rogers) who has a gun pointed at Charlie. They go back inside, where she explains that she shot the Reverend and that she was going to meet her lover, Max, at the house so they could collect their $2,000,000 the real Reverend had left. Gus and Charlie explain that Max will not be seeing her, and she asks them where the money is, pointing a gun at the tied-up policeman. They frantically try to say that they don't know anything about the money, and right before she is about to shoot the deputy, Josie comes in and lodges an axe in the wife's head. As Charlie and Gus talk over what's been happening, Josie finds the money hidden in the Reverend's oven, and calls Charlie and Gus over. As they are looking at the stacks of hundred dollar bills, they hear cries of \"help\" from outside. The deputy has escaped through the front door, and, rolling himself along, is soon caught by the three. In his rolling, the deputy drops his badge, which Charlie picks up and puts in his pocket. They agree to dispose the body of the wife. The policeman, still alive, asks to use the toilet. Inside, he tries to escape through a window, but slips and kills himself by breaking his skull on the toilet.\n",
      "Charlie, Gus, and Josie hide the bodies in suitcases and drive away to dispose them, but soon get into an argument. Charlie reveals that the reason why he has been reeling off random facts is because of a neurological disorder. This problem with the neurotransmitter acetylcholine means that eventually his mind will become blank and explains why he was fired from his teaching position. After driving for a while Charlie realises that Gus, who had originally said he needed the money for his daughter's cornea operation, does not really have a daughter, and punches him. In this small fight, they nearly get into an accident with a fat man, who tries to call the police, but is persuaded by Gus to not do so. Charlie, Gus and Josie drive away and get to their disposal point, only to find that one of the bodies is missing. They drive back and hit the Reverend's wife, who had jumped out of the car and was trying to get help. As they look over the body, two police officers arrive, one of them being Charlie's wife, and quickly see the body. Charlie's wife tries to call her deputy, but it goes to voicemail. Josie hurriedly makes up a story, but the three are taken to the station where a special agent is waiting.\n",
      "Agent Hymes (Jon Polito), the fat man the three almost got into an accident with, examines the body with Gus and Josie, seeming to understand the earlier events. However, it turns out not to be the case and he lets them go. In the waiting room, Charlie finds his sleeping daughter, who could not be left alone at the house and was brought by his wife, and gives her his coat. Charlie, Gus and Josie drive to a tar pit, where they plan to dispose of the bodies, but they find that the special agent has been following them. He gets angry at Gus for calling him fat before, and Gus swipes and stabs him with an insulin needle in the foot. The agent throws the gun up, which is caught by Charlie, who then points the gun at the agent. The agent then reveals that Josie is the Wyoming Widow; a murderer who befriended men and killed them with whiskey laced with highly concentrated thallium. She disregards it as nonsense, but Charlie and Gus make her empty her pockets, where they find the tell-tale flask of poisoned whiskey. They make her drink some, and she pretends to die, but soon begins laughing at their foolishness as it is not poisoned. They check for the agent, but as he has disappeared they go looking for him. Gus goes back to the car and tries to hide the money, but is caught by the agent, who complains of his lack of payment for what he does. He shoots Gus twice, killing him, and gets the money. In the mean time, Charlie's wife finds the badge of her deputy in her husband's coat, but drives to a bridge and throws it off, removing the evidence.\n",
      "The agent runs to his car, but is surprised by Josie, who was waiting in the back seat. They make him eat a large sugary lollipop, dangerous because of his diabetes, and leave him for dead. Charlie remarks on what monsters they have become, and is then faced by Josie, who has a gun pointed at his head. She explains that she really is the Wyoming Widow, and then gives him the choice of the bullet or the poisoned whiskey (from her second flask). Charlie tells her not to spend all the money in one place, and drinks the whiskey, dying quickly, but not before he happily sees Josie discover that the bag is filled with nothing but his daughter's stuffed animals. At home, Charlie receives a message on his phone from a publishing firm regarding his book and his dream job and an office. Also, his daughter is seen drawing with marker on some of the hundred dollar bills next to several large stacks of money.\n",
      "Josie tries to hitch a ride away from Oregon, and finally gets one from an old man. The old man goes to the back to \"double-check on something\", and Josie takes out the poisoned whiskey. The old man covers a bloody leg with a tarpaulin (where it is revealed he is the Oregon undertaker), and goes back into the truck to drive away with Josie.\n",
      "==================================================\n",
      "We open with a long shot of a rocket awaiting launch. Captain Neal Patterson (Eric Fleming), Lt. Mike Cruze (Dave Willock) and Lt. Larry Turner (Patrick Waltz) wait outside the Colonel's office. When admitted they are introduced to Professor Konrad (Paul Birch) and told their next assignment is to take Konrad to the Space Station. They express disappointment at such an unimportant assignment, but Col. Ramsey (an uncredited Guy Prescott) cryptically tells them, \"There are indications of serious trouble up there. Professor Konrad will tell you about it when you're underway.\"The crew prepares for launch when Konrad arrives. He explains the importance of the Space Station as a launching point for all future space missions. Outside, Larry is saying goodbye to his girlfriend (an uncredited Joi Lansing). With Larry back on board, Prof. Konrad is strapped into his bed for launch. The crew grimaces with the G-forces of acceleration until they reach orbit. They navigate towards the Space Station. Konrad tells Patterson about the true nature of the mission, \"They've made some disturbing observations from the Space Station. Apparently we have some deadly neighbors in outer space. The Earth may be in mortal danger.\" At that a ray of energy from an unknown origin flashes across the screen. Multiple shots get closer to the Space Station until one makes a glancing blow. The next shot is a direct hit and the wheel-shaped craft is destroyed. The beams are approaching the spaceship, Starfire. They try to outrun the energy force and are struck. The force accelerates the craft to an incredible speed. Later they will discover the speedometer broken above the maximum pegged value. Capt. Patterson was injured by a piece of flying debris.Title and credits roll [15 minutes into the movie] over a star field. They approach a planet and crash land in the snow. The crew awakens to take stock of their situation. They deduce they are on the planet Venus and discover the air is breathable. Below the snowline they enter a jungle with strange plants and no sound at all. A strange pulsating sound pierces the silence and Prof. Konrad correctly observes, \"My guess is that was an electronic signal of some kind.\" They build a camp fire and bed down for the night. Larry takes the first watch. Mike took the watch that brought morning, but he dozed off. As a result, he didn't notice until too late the crew were surrounded by the inhabitants of the area. Women in short shirts, clear plastic high-heel shoes, and carrying ray guns take them hostage. They are marched back to the city. Once inside the city they get the impression that strangers, and particularly male strangers are not welcomed. They are brought into the Council Chamber for an audience with the rulers of Venus.A curtain parts and Queen Yllana (Laurie Mitchell) and her council, all wearing masks, take their seats at a table on a raised platform. Yllana introduces herself, \"I am Yllana, ruler of the city of Kadir and queen of this world.\" Next she asks, \"Why are you here?\" Patterson introduces himself and his colleagues, then explains, \"We came from Earth on a peaceful mission, but our ship was thrown off course, and we crashed here.\" The Queen does not believe the Earthmen. She and her council adjourn to decide their fate. Motiya (Lisa Davis), the blond woman that Larry found so captivating, leaves to tell Talleah (Zsa Zsa Gabor) of the Earthmen. Talleah, the leader of the resistance movement on Venus, decides to visit the Earthmen and decide for herself if they can be trusted to help her cause. The Earthmen are returned to the Council Chamber to hear the decision. The Queen pronounces that, \"You came here to spy on us, to prepare for invasion. What is the plan of attack? You will die!\" They are returned to the prison quarters.Konrad voices his concern, \"I have a sense of foreboding about them. A feeling of something monstrous, evil.\" Patterson adds, \"I'm beginning to think our being here isn't an accident.\" He concludes the energy beam originated on Venus. Talleah visits the Earthmen. She tells them their lives are in great danger. She confides that she is one of many who want to overthrow the Queen and makes a deal, \"If you help us, we are going to help you.\" Then she drops the bombshell, \"The Earth is going to be destroyed.\" Talleah tells of an interplanetary war Venus had ten years earlier with Mordo. Most of the cities were destroyed and lost to the jungle. Yllana led the revolt and took over from the men. Many were killed, but the men she needed are kept on a prison colony moon, Tyrus, that orbits Venus.An escort detail comes to take Capt. Patterson to see the Queen. Konrad noticed the Queen had an interest in Patterson and advises he try to charm her. Betraying her true feeling for Patterson, a jealous Talleah says, \"I hate her! I hate that Queen!\" Yllana joins Patterson in her bed chamber. She tells him, \"Bring me a glass of wine, Captain, and one for yourself.\" She sits, provocatively on the edge of the bed, showing a lot of leg. They drink. The charm appears initially to be working until she warns, \"If you do not give us a truthful explanation of your visit here, the Council sentence will be carried out to the letter.\" She does provide an escape provision for the handsome Captain. She admits to a desire for him. He asks her to take off her mask, but she refuses. By way of warning, she shows him preparations of the Beta Disintegrator that will be used to destroy the Earth. In a moment of weakness she allows Patterson to unmask her. He is shocked by the visage. Severe radiation burns have left the angry Queen with a scarred face of blue and black skin, with open red sores. \"For that you will die,\" she proclaims. Yllana replaces her mask and calls her guards to escort Patterson back to his cell. When alone, she removes her mask, looks at her face in the mirror and sobs uncontrollably. Patterson explains to his colleagues, \"It was atomic radiation that disfigured her. I think its affected her mind.\" The four are taken to see Talleah in her lab. She introduces another of her circle, Kaeel (Barbara Darrow). Talleah tells Patterson they have no time to waste. She has learned that the Queen plans to destroy the Earth in two days. They plan to walk through the jungle to the site of the Beta Disintegrator and destroy it. Before they can leave, the guards search the lab. Since Talleah is still considered loyal she continues to work as the others hide. When the guards leave, Talleah frees her comrades and the Earthmen and they make their way through the city and escape outside.Odeena (Marilyn Buferd), who brought the Earthmen to see Talleah, has been captured and brought before the Queen. She protests her innocence, and is lulled into a sense of safety when the Queen reassures her, \"Odeena has always been loyal to her queen. Release her. You may go.\" As she turns to leave, Yllana pulls a ray gun from a guard and blasts her into smoke. Outside the city, Talleah, Patterson and the others are under radar and searchlight detection. They conclude they are safest in a cave. The guards are searching in the jungle for them. Larry leaves the safety of the group to explore the cave system. Larry is observed by something that watches from a rock ledge above him. A giant red-eyed spider pounces down on him. He screams and fights it off. The commotion draws the rest to his aid. A blast with a ray gun soon reduces the spider to a smoldering shadow on the ground. They build a fire and wait in the cave. Patterson, Larry and Mike get to know their female companions on a more intimate basis. Konrad remains unattached, so he volunteers to go gather more wood for the fire. Outside he discovers the search party of guards have found their trail and are closing in fast. They devise a plan to have Talleah pretend to capture and march them back to the city.The Queen oversees final preparations on her Beta Disintegrator. She returns to the city to confront the Earthmen, unaware Talleah is no longer loyal. But Talleah reveals herself, \"I don't want your reward. One move and I kill you.\" Patterson orders Yllana to give orders to suspend all work on the Beta Disintegrator. Talleah adds an order of her own, \"You will contact the guards on Tyrus and tell them to free all the men.\" Yllana pretends to comply, goes to her bed and pulls a ray gun out from under a pillow, but is quickly disarmed. Patterson pulls her mask off and gives it to Talleah to masquerade as the Queen to give the orders. They tie up the Queen and hide her behind a screen. Motiya and Kaeel leave to warn their partisans at the weapon site. The masked guards enter the Queen's chamber. Talleah orders them out, but Yllana kicks over the screen revealing the plot. Talleah is disarmed and unmasked. The Queen is restored to power. Yllana delays the execution of the traitors until after she destroys the Earth, but promises, \"For her treachery, Talleah will die last, and most horribly of all.\" Yllana makes one more appeal to Patterson for his love and attention, but her disfigured face even repells her guards.The Earthmen are taken to the jungle site of the weapon. While Yllana gloats, Motiya and Kaeel signal their mission is completed. On a giant screen the Earth is seen suspended in space. The Queen threatens, \"It took untold millions of years to create the planet you call Earth. Watch it closely Earthmen. It will be destroyed in a matter of seconds. Watch it!\" Yllana presses the button to start the machine. It whirrs up to speed, then makes an unexpected sound of distress. The Queen presses the button again, but all that happens is a screeching sound. She pounds on the button but still nothing happens. The machine explodes and a small fire erupts inside. The Queen enters the main operating room to work it manually. Every lever she throws only makes things worse. More explosions and more fires. A fight between the loyalists and resistance breaks out. A final fireworks display reduces the Queen to a burnt out carcass.Sometime later the Earthmen and citizens of the city assemble in the Council Chambers. A new Queen, Talleah, and her court assume their places on the dais. Talleah announces that the ship has been repaired and the Earthmen can now leave for home. They prepare to depart, but are delayed by a message for the Queen, \"The electronic tele-viewer is working. Earth answers us.\" Colonel Ramsey tells the crew that their orders are, \"Not to attempt a return flight in the Starfire. I will not risk his life or the lives of his men in a patched-up ship. Therefore, Captain, you and your crew will remain on the planet Venus until a relief expedition can reach you.\" We close with Patterson and Talleah embracing, then each principle cast member gets a credit and close-up.\n"
     ]
    }
   ],
   "source": [
    "print(data.plot_synopsis.iloc[5])\n",
    "print('='*50)\n",
    "print(data.plot_synopsis.iloc[15])\n",
    "print('='*50)\n",
    "print(data.plot_synopsis.iloc[70])\n",
    "print('='*50)\n",
    "print(data.plot_synopsis.iloc[1620])\n"
   ]
  },
  {
   "cell_type": "code",
   "execution_count": 0,
   "metadata": {
    "colab": {},
    "colab_type": "code",
    "id": "P4_UkKHFU8jN"
   },
   "outputs": [],
   "source": [
    "c = data.shape[0]\n",
    "def clean_data(string_):\n",
    "\n",
    "      '''This is a function that removes special characters, apply stemming\n",
    "            and    convert into lower case and return the cleaned string'''\n",
    "      global c\n",
    "      sys.stdout.write('Remaining {}'.format(c))\n",
    "\n",
    "      test_st = BeautifulSoup(string_).get_text()\n",
    "\n",
    "      # print('Length of str before', len(test_st))\n",
    "\n",
    "      nn = []\n",
    "      # sc_in_str = []\n",
    "      for j in test_st.split():\n",
    "            \n",
    "            word = re.sub(r\"won't\", \"will not\", j)\n",
    "            word = re.sub(r\"n\\'t\", \" not\", word)\n",
    "            word = re.sub(r\"\\'ve\", \" have\", word)\n",
    "            word = re.sub(r\"can\\'t\", \"can not\", word)\n",
    "            word = re.sub(r\"\\'re\", \" are\", word)\n",
    "            word = re.sub(r\"\\'s\", \" is\", word)\n",
    "            word = re.sub(r\"\\'d\", \" would\", word)\n",
    "            word = re.sub(r\"\\'ll\", \" will\", word)\n",
    "            word = re.sub(r\"\\'t\", \" not\", word)\n",
    "           \n",
    "            word = re.sub(r\"\\'m\", \" am\", word)\n",
    "\n",
    "            for i in special_chars:\n",
    "                if i in word:\n",
    "                    try:\n",
    "                        temp =  word\n",
    "                        word =  word.replace(i,special_chars_meaning[i])\n",
    "                        word =  word.lower()\n",
    "                        # sc_in_str.append(i)\n",
    "\n",
    "                        # print(temp,j)\n",
    "                        if temp == word:\n",
    "                          word = word.replace(i,'')\n",
    "                    except:\n",
    "                      pass\n",
    "\n",
    "            if word not in stopwords:\n",
    "                  nn.append(stemmer.stem(word))\n",
    "      \n",
    "      c -=1 \n",
    "      \n",
    "      sys.stdout.write('\\r')\n",
    "\n",
    "      return ' '.join(nn)\n",
    "      "
   ]
  },
  {
   "cell_type": "markdown",
   "metadata": {
    "colab_type": "text",
    "id": "1oovK0osHesj"
   },
   "source": [
    "### Cleaning Plot Synopsis (Replacing Chinese Characters with their english meaning)"
   ]
  },
  {
   "cell_type": "code",
   "execution_count": 0,
   "metadata": {
    "colab": {
     "base_uri": "https://localhost:8080/",
     "height": 17
    },
    "colab_type": "code",
    "id": "i172reQDaVQx",
    "outputId": "3ea13e1f-09c5-4b87-90ac-3d7a54545a32"
   },
   "outputs": [
    {
     "name": "stdout",
     "output_type": "stream",
     "text": []
    }
   ],
   "source": [
    "clean_plot_synopsis = data.plot_synopsis.apply(clean_data)"
   ]
  },
  {
   "cell_type": "code",
   "execution_count": 0,
   "metadata": {
    "colab": {
     "base_uri": "https://localhost:8080/",
     "height": 156
    },
    "colab_type": "code",
    "id": "teNAsLOVvb3n",
    "outputId": "fead23e8-4256-4f17-eb9a-4de12f6d9129"
   },
   "outputs": [
    {
     "name": "stdout",
     "output_type": "stream",
     "text": [
      "georg falcon (colin firth) approach car accid middl snowwhit sceneri there bloodi man kiss he wake dream moment partner  year jim (mathew goode) diedthough jim visit disapprov famili georg rememb phone ring fate day jimi cousin told fatal accid georg welcom attend funer familyi homophobia common period later georg rememb break charley (juliann moore) day best friend life london, also reloc la; briefli sexual attach georg complet honest may still feel attract him.georg shower dress iti novemb   eve cuban missil crisi though british, professor english ucla. he depress never recov loss leav work pack gun briefcase.h tell clean ladi alva (paulett lamori) alway wonder  spite forgotten take bread fridg georg hug leav utter confused.on campus georg notic coupl student chainsmok loi (nicol steinwedell) boy one secretari (keri lynn pratt) tell given address nice new student turn boy kenni potter (nichola hoult) talk class speech georg given classroom concern minor fear kenni discuss recreat drug use kenni tell never heard georg express open class day he buy georg pencil sharpen token gratitud georgei talk him.georg phone charley, dress dinner plan home georg get car pick gun clean offic however, kenni appear invit go drink observ georgei depress notic clean desk offic georg tell time he goe bank pick various thing safe deposit box look photo deceas lover recal convers beach.aft buy bullet goe conveni store there, carlo (jon kortajarena) bump onto break bottl scotch bought georg buy new bottl scotch talk they smoke cigarett drink bottl gin togeth georg leav refus carlo offer compani say serious day hei tri get old love.at home put record rememb convers jim one read differ book couch he pretend shoot practic later night semicom scene canot find best posit accomplish charley call remind dinner plan grudg attend leav note money alva. they danc talk london, life charleyi exhusbandi abandon offend georg suggest might normal life togeth hadnot poof charley say georg doesnot look well remind heart attack suffer near time jimi death charley tri convinc georg spend night home leaves.th scene flash back  jim georg met bar jim leav army, right second world war return see georg return bar near home quiet place ask scotch.kenni follow they talk go beach swim nake they go georgei place as georgei forehead bleed kenni tend see medicinei cabinet nude photo jim. georg see kenni strip wet cloth noth kenni say loi romant involv not unlik georg charley distant past kenni explain brief sexual liason kenni georg sex kenni stay couch given late hour.georg wake hour find gun kennyi cover remov lock kenni sleep when return bed georg die heart attack see imag jim kiss forehead\n",
      "==================================================\n",
      "hour end previous game death traitor general shepard, remnant task forc  tf) captain john price (billi murray) john soap mactavish (kevin mckidd) price pilotinform nikolai fled afghanistan safe hous belong nikolaii alli soap critic wound whole team want war crime didnot commit short arriv forc command ultranationalist terrorist vladimir makarov (roman varshavsky) attack tri kill nikolai best soldier man name yuri (brian bloom)  join team help price nikolai evacu team safetymeanwhile, new york city, delta forc unit name team metal activ the team led squad leader codenam \"sandman\" (william fichtner) sgt. derek \"frost\" westbrook  they task take russian jammer tower roof new york stock exchang prevent american air attack the team fight iti way citi trade floor onto roof destroy tower they evacu roof blackhawk gunship fight way safeti destroy sever mi- hind gunship along way the american air forc establish air superior citi next, team metal rendezv team navi seal infiltr russian oscar ii submarin use command vessel they forc surfac take control boat sandman frost use subi weapon russian fleet harbor escap vessel these twin american victori togeth victori washington dc area previous game prompt russian evacu unit statestwo month later russian presid bori vorshevski propos ceasefir he head summit meet american vice presid hamburg, germany. this action enrag hardlin govern side makarov. the presidenti plane hijack way summit makarovi forc presid captur makarov demand vorshevski give nuclear launch code refuses.makarov action prompt tf11 take action yurii intellig report makarov move cargo sierra leon europe. makarov use local militia secur build weapon africa. tf11 consist price, recov soap yuri sneak villag they investig factori find abandon the militia attack technic mortar team tf11 neutral enemi head militia hq, local church they abl elimin enemi miss shipment inform militia headquart reveal makarov smuggl wmds use compani call fregata enterpriseswestern intellig learn one makarovi shipment head london. a sas team led sgt. wallcroft sgt. marcus burn tri intercept shipment first dock harrow chase london underground. they abl catch truck learn decoy a mile away american tourist famili way see big ben. as child run corner white truck come stop curb two men run away vehicl moment late chemic weapon bomb truck explod all caught tourist camcord this would one seri chemic attack western capit day intent crippl western respons russian aggress when smoke clear determin thousand die terrorist attack even wors  take advantag chao russian armi attack western europe, occupi much continentnato respond send forc liber hamburg. task forc metal sent along anoth missionrescu american vice president, held makarov forc frost rest team metal fight alongsid invas forc push way citi at point frost join tank crew take vehicl park garag fight way at end team get onto street search vice presid convoy they find block away one they head anoth build rescu vice president.pric contact former command macmillan, command sas. macmillan give price intel attack name makarovi african contact somali warlord name waraab respons provid chemic weapon compound bosasso, somalia. price team head waraabei compound ahead huge sandstorm the team enter compound engag warlordi forc nikolai give yuri remot command minigun chopper he use cut mani enemi forc price soap yuri fight way waraabei headquart they breach door offic take guard captur waraabe.pric team put gas mask price threaten waraab gas he make waraaab reveal contact arm dealer name volk, man behind fregatta enterprises. price kill waraab role kill mani thousand peopl when team tri leav attack rest militia with sandstorm bear push forward land zone the sandstorm come fast chopper goe the team fight way crash site rescu nikolai. the storm reduc visibl feet the team make crash site flee vehicl escap compoundarm inform price contact sandman tell volk. team metal head pari link french intelligence. team metal french forc fought street paris, still fill cloud toxic gas they use coupl airstrik take vehicl way made catacomb citi the joint team slip passageway found volki headquart volk fled team arriv frost hot pursuit they emerg onto street volk fled away car the team got vehicl chase volk. they caught volk ran car road captur him.becaus citi war zone team metal need fight way land zone could escap prison the team move sever block block armor column they given air support ac1 gunship clear way us embassy. the team pin implant machin gun nest frost move flank take enemi sniper rifl the team fight make mad dash citi get support gunship reach eiffel tower. there, fought pitch battl enemi with help air support team abl clear way land zone the tower fell battlevolk reveal whole conspiraci question he reveal makarov hold war council alli hotel prague, czech republic. sandman gave intel price alreadi prague. price intend assassin makarov meet yuri soap slip citi becaus citi russian lockdown need extrem stealth they got center citi couldnot get target enemi forc at point local resist fighter launch diversionari attack arrang price alli kamarov) the team fought way citi got target church overlook hotel meet scheduled.hour later price hotel yuri soap wait across street church sniper rifl wait makarov. the convoy show makarov wasnt he anticip attack boobi trap church hotel strap explos captur kamarov) makarov sent messag \"you shouldnt come yuri\" soap realiz makarov yuri knew the bomb went price manag escap bomb went church soap yuri fell ground soap bad injured.yuri price fought way safehous frantic attempt get aid sever wound soap. they surviv make safeti they tri save soap, die in die word gasp \"makarov know yuri\" price yuri left room price punch yuri nearbi stair jam desert eagl pistol yuri face \"tell bloodi hell makarov know you\"yuri began stori tell makarov work imran zakhaev sinc  incid pripyat--near site chernobyl power plant price tri kill zakhaev, wound moment makarov order deton nuke destroy citi kill  american soldier yuri also told tri stop makarovi terrorist attack moscow airporth reveal plot russian secur servic shot makarov dure massacr follow makarov, despit wound attempt stop couldnot at point price decid still believ yuri--for now.pric yuri go place area makarovi peopl believ mediev castl they slip compound plant c4 various part build infiltr command center they continu slip main offic build they learn makarov still pressur presid vorshevski launch code makarov learn vorshevskyi daughter alena hidden berlin. price yuri escap castl send messag team metal makarov plan captur alena forc vorshevski give codes.team metal american forc contact alena vorshevski reveal hide protect detail kill metal fight way roof nearbi build plan provid cover team granite, go perform rescu frost team take control roof frost use sniper rifl clear adjoin rood team granit arriv roof move enter build column russian tank approach build frost call a1 strike column protect american forc the tank destroy team granit kill addit enemi forc build sandman order metal go hotel know would rescu alena they fought way citi support german armor column they near reach build russian destroy anoth build drop rubbl team team metal slip collaps build get hotel alena hide they fight build climb fifth floor learn alena wasnot anymor frost sandman climb roof rush save alena, late--makarov men took away chopper frost bad wounded.know vorshevski wouldnt abl hold makarov daughter team metal minus wound frost) tf  launch joint rescu mission they knew makarov hold hostag diamond mind siberia. the two team fight way build support diamond mine get outsid they fight way construct area support predat strike reach command center they go build reach room makarovi men tortur alena. team metal rescu wound alena, tell makarovi men took father deeper mine the two team press deeper mine find team guard presid vorshevsky. yuri shoot terrorist hold vorshevski sniper shot team move rescu chopper the terrorist counterattack price yuri get presid chopper team metal cover escap price want help escap also sandman tell save president. tf11 escap presient mine collaps kill team metalaft presid vorshevski rescu summit goe plan war come end in moscow, makarovi polit alli purg govern vorshevski form ultranationalist-loyalist coalit govern as result heroic save vorshevski revel general shepardi duplic task forc  clear charg this clear task forc one last mission--kil makarov. they discov makarov remain forc set shop dubai. price yuri arriv dubai head makarovi hq--the hotel oasis. equip juggernaut suit storm hotel lobbi take makarovi guard go they head elev attack helicopt their armor damag shed price yuri head restaur top floor they fight makarovi guard yuri sever wound makarov flee roof yuri implor price leav go makarov. price sprint onto roof jump onto makarovi chopper leav price kill two pilot take chopper it crash onto roof wound price makarov. makarov move kill price, yuri clamber onto roof stop makarov kill yuri, give price distract need price wrap cabl around makarovi neck hang price victori cigar watch makarov corps hang front\n",
      "==================================================\n",
      "the film set small oregon town brutal serial killer nicknam oregon undertak murder mutil young women charli (david schwimmer) exteach turn disaffect call center employe fire first day distraught unabl provid daughter emili policewoman wife penelop (natascha mcelhone) approach former colleagu gus (simon pegg) aspir scam artist present charli seem snagfre plan make cash blackmail reverend smalls, list compani databas visitor illeg porn websit gus plan extort money reverend smalls, intent public expos secret shame refus pay the normal cautious charli reluct agre play part scam confid money garner deal would abl support famili a teenag pageant queen josi mcbroom (alic eve) gusi scheme onenight stand forc scheme josi convinc charli gus make call small ground either call polic could trace voic connect job the plan goe action gus goe small hous surpris reverend wield gun from outsid hous two shot heard at time charli arriv bar explain gus alibi find blind owner gas station gus suppos gone bar celebr th birthday charli run away goe small hous find reverend dead scared, drag bodi outsid dump nearbi septic tank he goe back insid hous tri call josie. he find gus learn reverend shot gus leg explain blood near corps after first shot gus hit reverend head vase leav aliv unconsci gus charli leav hous escap scene crime charli rememb left josiei card insid they go back get process gus stumbl upon hidden dvd collect reverend. they put one find video reverend kill tortur young girl they tri flee hous immedi met deputi polic offic outsid door the policeman explain reverend found dead three bullet hole head charli let policeman notic blood floor charlie, kitchen grab knife cut goe back policeman explain cut vase right leav policeman decid see charli watch much charliei protest he press play watch begin childreni movi gus secret switch satisfied, leav hous find mark ground look like someon drag charli follow policeman end drag mark septic tank as charli open gus smash vase head deputi prompt drag insid inside, charli panic murder reverend kidnap policeman leav met reverendi wife (mimi rogers) gun point charlie. they go back insid explain shot reverend go meet lover max, hous could collect  real reverend left gus charli explain max see ask money point gun tiedup policeman they frantic tri say donot know anyth money right shoot deputi josi come lodg axe wifei head as charli gus talk whati happen josi find money hidden reverendi oven call charli gus as look stack hundr dollar bill hear cri help outsid the deputi escap front door roll along soon caught three in roll deputi drop badg charli pick put pocket they agre dispos bodi wife the policeman still aliv ask use toilet inside, tri escap window slip kill break skull toilet charlie, gus, josi hide bodi suitcas drive away dispos soon get argument charli reveal reason reel random fact neurolog disord this problem neurotransmitt acetylcholin mean eventu mind becom blank explain fire teach posit after drive charli realis gus, origin said need money daughteri cornea oper realli daughter punch in small fight near get accid fat man tri call polic persuad gus charlie, gus josi drive away get dispos point find one bodi miss they drive back hit reverendi wife jump car tri get help as look bodi two polic offic arriv one charliei wife quick see bodi charliei wife tri call deputi goe voicemail josi hurri make stori three taken station special agent wait agent hyme (jon polito) fat man three almost got accid examin bodi gus josie, seem understand earlier event however, turn case let go in wait room charli find sleep daughter could left alon hous brought wife give coat charlie, gus josi drive tar pit plan dispos bodi find special agent follow he get angri gus call fat gus swipe stab insulin needl foot the agent throw gun caught charlie, point gun agent the agent reveal josi wyom widow; murder befriend men kill whiskey lace high concentr thallium she disregard nonsens charli gus make empti pocket find telltal flask poison whiskey they make drink pretend die soon begin laugh foolish poison they check agent disappear go look gus goe back car tri hide money caught agent complain lack payment he shoot gus twice kill get money in mean time charliei wife find badg deputi husbandi coat drive bridg throw remov evid the agent run car surpris josie, wait back seat they make eat larg sugari lollipop danger diabet leav dead charli remark monster becom face josie, gun point head she explain realli wyom widow, give choic bullet poison whiskey second flask charli tell spend money one place drink whiskey die quick happili see josi discov bag fill noth daughteri stuf anim at home charli receiv messag phone publish firm regard book dream job offic also, daughter seen draw marker hundr dollar bill next sever larg stack money josi tri hitch ride away oregon, final get one old man the old man goe back doublecheck someth josi take poison whiskey the old man cover bloodi leg tarpaulin reveal oregon undertak goe back truck drive away josie.\n",
      "==================================================\n",
      "we open long shot rocket await launch captain neal patterson (eric fleming) lt. mike cruze (dave willock) lt. larri turner (patrick waltz) wait outsid colon offic when admit introduc professor konrad (paul birch) told next assign take konrad space station. they express disappoint unimport assign col. ramsey uncredit guy prescott) cryptic tell \"there indic serious troubl professor konrad tell youar underway\"th crew prepar launch konrad arriv he explain import space station launch point futur space mission outside, larri say goodby girlfriend uncredit joi lansing) with larri back board prof. konrad strap bed launch the crew grimac g-forc acceler reach orbit they navig toward space station. konrad tell patterson true natur mission \"theyhav made disturb observ space station. appar dead neighbor outer space the earth may mortal danger at ray energi unknown origin flash across screen multipl shot get closer space station one make glanc blow the next shot direct hit wheelshap craft destroy the beam approach spaceship starfire. they tri outrun energi forc struck the forc acceler craft incred speed later discov speedomet broken maximum peg valu capt. patterson injur piec fli debris.titl credit roll  minut movi star field they approach planet crash land snow the crew awaken take stock situat they deduc planet venus discov air breathabl below snowlin enter jungl strang plant sound a strang pulsat sound pierc silenc prof. konrad correct observ \"mi guess electron signal kind they build camp fire bed night larri take first watch mike took watch brought morn doze as result didnot notic late crew surround inhabit area women short shirt clear plastic highheel shoe carri ray gun take hostag they march back citi onc insid citi get impress stranger particular male stranger welcom they brought council chamber audienc ruler venus.a curtain part queen yllana (lauri mitchell) council wear mask take seat tabl rais platform yllana introduc \"i yllana, ruler citi kadir queen world next ask \"whi patterson introduc colleagu explain \"we came earth peac mission ship thrown cours crash the queen believ earthmen. she council adjourn decid fate motiya (lisa davis) blond woman larri found captiv leav tell talleah (zsa zsa gabor) earthmen. talleah, leader resist movement venus, decid visit earthmen decid trust help caus the earthmen return council chamber hear decis the queen pronounc \"you came spi us prepar invas what plan attack you die they return prison quarters.konrad voic concern \"i sens forebod a feel someth monstrous evil patterson add \"iam begin think isnot accid he conclud energi beam origin venus. talleah visit earthmen. she tell live great danger she confid one mani want overthrow queen make deal \"if help us go help then drop bombshel \"the earth go destroy talleah tell interplanetari war venus ten year earlier mordo. most citi destroy lost jungl yllana led revolt took men mani kill men need kept prison coloni moon tyrus, orbit venus.an escort detail come take capt. patterson see queen. konrad notic queen interest patterson advis tri charm betray true feel patterson, jealous talleah say \"i hate i hate queen\" yllana join patterson bed chamber she tell \"bring glass wine captain, one she sit provoc edg bed show lot leg they drink the charm appear initi work warn \"if give us truth explan visit council sentenc carri letter she provid escap provis handsom captain. she admit desir he ask take mask refus by way warn show prepar beta disintegr use destroy earth. in moment weak allow patterson unmask he shock visag sever radiat burn left angri queen scar face blue black skin open red sore \"for die proclaim yllana replac mask call guard escort patterson back cell when alon remov mask look face mirror sob uncontrol patterson explain colleagu \"it atom radiat disfigur i think affect mind the four taken see talleah lab she introduc anoth circl kaeel (barbara darrow) talleah tell patterson time wast she learn queen plan destroy earth two day they plan walk jungl site beta disintegr destroy befor leav guard search lab sinc talleah still consid loyal continu work other hide when guard leav talleah free comrad earthmen make way citi escap outside.odeena (marilyn buferd) brought earthmen see talleah, captur brought queen. she protest innoc lull sens safeti queen reassur \"odeena alway loyal queen releas you may go as turn leav yllana pull ray gun guard blast smoke outsid citi talleah, patterson other radar searchlight detect they conclud safest cave the guard search jungl larri leav safeti group explor cave system larri observ someth watch rock ledg a giant redey spider pounc he scream fight the commot draw rest aid a blast ray gun soon reduc spider smolder shadow ground they build fire wait cave patterson, larri mike get know femal companion intim basi konrad remain unattach volunt go gather wood fire outsid discov search parti guard found trail close fast they devis plan talleah pretend captur march back city.th queen overse final prepar beta disintegrator. she return citi confront earthmen, unawar talleah longer loyal but talleah reveal \"i donot want reward one move i kill patterson order yllana give order suspend work beta disintegrator. talleah add order \"you contact guard tyrus tell free men yllana pretend compli goe bed pull ray gun pillow quick disarm patterson pull mask give talleah masquerad queen give order they tie queen hide behind screen motiya kaeel leav warn partisan weapon site the mask guard enter queeni chamber talleah order yllana kick screen reveal plot talleah disarm unmask the queen restor power yllana delay execut traitor destroy earth, promis \"for treacheri talleah die last horribl yllana make one appeal patterson love attent disfigur face even repel guards.th earthmen taken jungl site weapon while yllana gloat motiya kaeel signal mission complet on giant screen earth seen suspend space the queen threaten \"it took untold million year creat planet call earth. watch close earthmen. it destroy matter second watch yllana press button start machin it whirr speed make unexpect sound distress the queen press button happen screech sound she pound button still noth happen the machin explod small fire erupt insid the queen enter main oper room work manual everi lever throw make thing wors more explos fire a fight loyalist resist break a final firework display reduc queen burnt carcass.sometim later earthmen citizen citi assembl council chambers. a new queen, talleah, court assum place dai talleah announc ship repair earthmen leav home they prepar depart delay messag queen, \"the electron teleview work earth answer us colonel ramsey tell crew order \"not attempt return flight starfire. i risk life live men patchedup ship therefore, captain, crew remain planet venus relief expedit reach we close patterson talleah embrac principl cast member get credit closeup\n"
     ]
    }
   ],
   "source": [
    "print(clean_plot_synopsis.iloc[5])\n",
    "print('='*50)\n",
    "print(clean_plot_synopsis.iloc[15])\n",
    "print('='*50)\n",
    "print(clean_plot_synopsis.iloc[70])\n",
    "print('='*50)\n",
    "print(clean_plot_synopsis.iloc[1620])\n"
   ]
  },
  {
   "cell_type": "markdown",
   "metadata": {
    "colab_type": "text",
    "id": "Gp-fBsAMk3nV"
   },
   "source": [
    "<strong>Once again checking for special characters since only chinese characters were replaced previously</strong>"
   ]
  },
  {
   "cell_type": "code",
   "execution_count": 0,
   "metadata": {
    "colab": {},
    "colab_type": "code",
    "id": "QLYS1Lh0opRr"
   },
   "outputs": [],
   "source": [
    "c = data.shape[0]\n",
    "def normal_clean_data(string_):\n",
    "\n",
    "      '''This is a function that removes special characters, apply stemming\n",
    "            and    convert into lower case and return the cleaned string'''\n",
    "      global c\n",
    "      sys.stdout.write('Remaining {}'.format(c))\n",
    "\n",
    "      test_st = BeautifulSoup(string_).get_text()\n",
    "\n",
    "      # print('Length of str before', len(test_st))\n",
    "\n",
    "      nn = []\n",
    "      # sc_in_str = []\n",
    "      for j in test_st.split():\n",
    "           \n",
    "            for i in special_char:\n",
    "                if i in j:\n",
    "                        j =  j.replace(i,'')\n",
    "                        j =  j.lower()\n",
    "                        # sc_in_str.append(i)\n",
    "\n",
    "                        \n",
    "            \n",
    "            nn.append(j)\n",
    "      \n",
    "      c -=1 \n",
    "      \n",
    "      sys.stdout.write('\\r')\n",
    "\n",
    "      return ' '.join(nn)\n",
    "      "
   ]
  },
  {
   "cell_type": "code",
   "execution_count": 0,
   "metadata": {
    "colab": {},
    "colab_type": "code",
    "id": "VwLEQlsVJK8M"
   },
   "outputs": [],
   "source": [
    "\n",
    "chars = []\n",
    "for i in clean_plot_synopsis:\n",
    "  for j in i:\n",
    "    if j not in t:\n",
    "        chars.append(j)\n",
    "        temp = j\n",
    "\n",
    "\n",
    "special_char = list(set(chars))    \n",
    "special_char"
   ]
  },
  {
   "cell_type": "markdown",
   "metadata": {
    "colab_type": "text",
    "id": "xiMAC6CalK0S"
   },
   "source": [
    "<strong>Cleaning Special Characters"
   ]
  },
  {
   "cell_type": "code",
   "execution_count": 0,
   "metadata": {
    "colab": {
     "base_uri": "https://localhost:8080/",
     "height": 17
    },
    "colab_type": "code",
    "id": "7GcJsc4v_DJ5",
    "outputId": "4ddec264-3d0e-45ff-b46d-ac990f769590"
   },
   "outputs": [
    {
     "name": "stdout",
     "output_type": "stream",
     "text": []
    }
   ],
   "source": [
    "clean_plot_synopsis = clean_plot_synopsis.apply(normal_clean_data)"
   ]
  },
  {
   "cell_type": "code",
   "execution_count": 0,
   "metadata": {
    "colab": {
     "base_uri": "https://localhost:8080/",
     "height": 34
    },
    "colab_type": "code",
    "id": "tFaNMob-L-KG",
    "outputId": "0b4e3dc5-49ad-4268-870d-d3928fedba03"
   },
   "outputs": [
    {
     "data": {
      "text/plain": [
       "[' ']"
      ]
     },
     "execution_count": 86,
     "metadata": {
      "tags": []
     },
     "output_type": "execute_result"
    }
   ],
   "source": [
    "\n",
    "chars = []\n",
    "for i in clean_plot_synopsis:\n",
    "  for j in i:\n",
    "    if j not in t:\n",
    "        chars.append(j)\n",
    "        temp = j\n",
    "\n",
    "\n",
    "special_char = list(set(chars))    \n",
    "special_char\n"
   ]
  },
  {
   "cell_type": "markdown",
   "metadata": {
    "colab_type": "text",
    "id": "0317ysRnlPba"
   },
   "source": [
    "<strong>As we observe above there are no any special characters in the data exept sapce</strong>"
   ]
  },
  {
   "cell_type": "code",
   "execution_count": 0,
   "metadata": {
    "colab": {
     "base_uri": "https://localhost:8080/",
     "height": 547
    },
    "colab_type": "code",
    "id": "ZpE2EPM-IiUO",
    "outputId": "4567796c-e358-4722-9965-c9f1bd3ae57e"
   },
   "outputs": [
    {
     "data": {
      "text/html": [
       "<div>\n",
       "<style scoped>\n",
       "    .dataframe tbody tr th:only-of-type {\n",
       "        vertical-align: middle;\n",
       "    }\n",
       "\n",
       "    .dataframe tbody tr th {\n",
       "        vertical-align: top;\n",
       "    }\n",
       "\n",
       "    .dataframe thead th {\n",
       "        text-align: right;\n",
       "    }\n",
       "</style>\n",
       "<table border=\"1\" class=\"dataframe\">\n",
       "  <thead>\n",
       "    <tr style=\"text-align: right;\">\n",
       "      <th></th>\n",
       "      <th>imdb_id</th>\n",
       "      <th>title</th>\n",
       "      <th>plot_synopsis</th>\n",
       "      <th>tags</th>\n",
       "      <th>split</th>\n",
       "      <th>synopsis_source</th>\n",
       "      <th>clean_tag</th>\n",
       "      <th>no_tags</th>\n",
       "      <th>clean_plot_synopsis</th>\n",
       "    </tr>\n",
       "  </thead>\n",
       "  <tbody>\n",
       "    <tr>\n",
       "      <th>0</th>\n",
       "      <td>tt0057603</td>\n",
       "      <td>I tre volti della paura</td>\n",
       "      <td>Note: this synopsis is for the orginal Italian...</td>\n",
       "      <td>cult, horror, gothic, murder, atmospheric</td>\n",
       "      <td>train</td>\n",
       "      <td>imdb</td>\n",
       "      <td>cult,horror,gothic,murder,atmospheric</td>\n",
       "      <td>5</td>\n",
       "      <td>note synopsi orgin italian releas segment cert...</td>\n",
       "    </tr>\n",
       "    <tr>\n",
       "      <th>1</th>\n",
       "      <td>tt1733125</td>\n",
       "      <td>Dungeons &amp; Dragons: The Book of Vile Darkness</td>\n",
       "      <td>Two thousand years ago, Nhagruul the Foul, a s...</td>\n",
       "      <td>violence</td>\n",
       "      <td>train</td>\n",
       "      <td>imdb</td>\n",
       "      <td>violence</td>\n",
       "      <td>1</td>\n",
       "      <td>two thousand year ago nhagruul foul sorcer rev...</td>\n",
       "    </tr>\n",
       "    <tr>\n",
       "      <th>2</th>\n",
       "      <td>tt0033045</td>\n",
       "      <td>The Shop Around the Corner</td>\n",
       "      <td>Matuschek's, a gift store in Budapest, is the ...</td>\n",
       "      <td>romantic</td>\n",
       "      <td>test</td>\n",
       "      <td>imdb</td>\n",
       "      <td>romantic</td>\n",
       "      <td>1</td>\n",
       "      <td>matuschekis gift store budapest workplac alfr ...</td>\n",
       "    </tr>\n",
       "    <tr>\n",
       "      <th>3</th>\n",
       "      <td>tt0113862</td>\n",
       "      <td>Mr. Holland's Opus</td>\n",
       "      <td>Glenn Holland, not a morning person by anyone'...</td>\n",
       "      <td>inspiring, romantic, stupid, feel-good</td>\n",
       "      <td>train</td>\n",
       "      <td>imdb</td>\n",
       "      <td>inspiring,romantic,stupid,feel_good</td>\n",
       "      <td>4</td>\n",
       "      <td>glenn holland morn person anyonei standard wok...</td>\n",
       "    </tr>\n",
       "    <tr>\n",
       "      <th>4</th>\n",
       "      <td>tt0086250</td>\n",
       "      <td>Scarface</td>\n",
       "      <td>In May 1980, a Cuban man named Tony Montana (A...</td>\n",
       "      <td>cruelty, murder, dramatic, cult, violence, atm...</td>\n",
       "      <td>val</td>\n",
       "      <td>imdb</td>\n",
       "      <td>cruelty,murder,dramatic,cult,violence,atmosphe...</td>\n",
       "      <td>10</td>\n",
       "      <td>in may cuban man name toni montana al pacino c...</td>\n",
       "    </tr>\n",
       "  </tbody>\n",
       "</table>\n",
       "</div>"
      ],
      "text/plain": [
       "     imdb_id  ...                                clean_plot_synopsis\n",
       "0  tt0057603  ...  note synopsi orgin italian releas segment cert...\n",
       "1  tt1733125  ...  two thousand year ago nhagruul foul sorcer rev...\n",
       "2  tt0033045  ...  matuschekis gift store budapest workplac alfr ...\n",
       "3  tt0113862  ...  glenn holland morn person anyonei standard wok...\n",
       "4  tt0086250  ...  in may cuban man name toni montana al pacino c...\n",
       "\n",
       "[5 rows x 9 columns]"
      ]
     },
     "execution_count": 89,
     "metadata": {
      "tags": []
     },
     "output_type": "execute_result"
    }
   ],
   "source": [
    "data['clean_plot_synopsis'] = clean_plot_synopsis\n",
    "data.to_csv('data.csv', index=False)\n",
    "data.head()"
   ]
  },
  {
   "cell_type": "markdown",
   "metadata": {
    "colab_type": "text",
    "id": "grfpeq4nHmYg"
   },
   "source": [
    "### Cleaning Titles"
   ]
  },
  {
   "cell_type": "code",
   "execution_count": 0,
   "metadata": {
    "colab": {
     "base_uri": "https://localhost:8080/",
     "height": 17
    },
    "colab_type": "code",
    "id": "5_Yo8EZqFtN0",
    "outputId": "02e94b16-45f3-4b6a-e5ef-19256ccf1504"
   },
   "outputs": [
    {
     "name": "stdout",
     "output_type": "stream",
     "text": []
    }
   ],
   "source": [
    "clean_title = data.title.apply(clean_data)\n",
    "clean_title = clean_title.apply(normal_clean_data)"
   ]
  },
  {
   "cell_type": "code",
   "execution_count": 0,
   "metadata": {
    "colab": {
     "base_uri": "https://localhost:8080/",
     "height": 547
    },
    "colab_type": "code",
    "id": "JB1Dta_HolBG",
    "outputId": "3696c8c2-5077-4edf-bb2f-5838a93bcdaa"
   },
   "outputs": [
    {
     "data": {
      "text/html": [
       "<div>\n",
       "<style scoped>\n",
       "    .dataframe tbody tr th:only-of-type {\n",
       "        vertical-align: middle;\n",
       "    }\n",
       "\n",
       "    .dataframe tbody tr th {\n",
       "        vertical-align: top;\n",
       "    }\n",
       "\n",
       "    .dataframe thead th {\n",
       "        text-align: right;\n",
       "    }\n",
       "</style>\n",
       "<table border=\"1\" class=\"dataframe\">\n",
       "  <thead>\n",
       "    <tr style=\"text-align: right;\">\n",
       "      <th></th>\n",
       "      <th>imdb_id</th>\n",
       "      <th>title</th>\n",
       "      <th>plot_synopsis</th>\n",
       "      <th>tags</th>\n",
       "      <th>split</th>\n",
       "      <th>synopsis_source</th>\n",
       "      <th>clean_tag</th>\n",
       "      <th>no_tags</th>\n",
       "      <th>clean_plot_synopsis</th>\n",
       "      <th>clean_title</th>\n",
       "    </tr>\n",
       "  </thead>\n",
       "  <tbody>\n",
       "    <tr>\n",
       "      <th>0</th>\n",
       "      <td>tt0057603</td>\n",
       "      <td>I tre volti della paura</td>\n",
       "      <td>Note: this synopsis is for the orginal Italian...</td>\n",
       "      <td>cult, horror, gothic, murder, atmospheric</td>\n",
       "      <td>train</td>\n",
       "      <td>imdb</td>\n",
       "      <td>cult,horror,gothic,murder,atmospheric</td>\n",
       "      <td>5</td>\n",
       "      <td>note synopsi orgin italian releas segment cert...</td>\n",
       "      <td>i tre volti della paura</td>\n",
       "    </tr>\n",
       "    <tr>\n",
       "      <th>1</th>\n",
       "      <td>tt1733125</td>\n",
       "      <td>Dungeons &amp; Dragons: The Book of Vile Darkness</td>\n",
       "      <td>Two thousand years ago, Nhagruul the Foul, a s...</td>\n",
       "      <td>violence</td>\n",
       "      <td>train</td>\n",
       "      <td>imdb</td>\n",
       "      <td>violence</td>\n",
       "      <td>1</td>\n",
       "      <td>two thousand year ago nhagruul foul sorcer rev...</td>\n",
       "      <td>dungeon dragons: the book vile dark</td>\n",
       "    </tr>\n",
       "    <tr>\n",
       "      <th>2</th>\n",
       "      <td>tt0033045</td>\n",
       "      <td>The Shop Around the Corner</td>\n",
       "      <td>Matuschek's, a gift store in Budapest, is the ...</td>\n",
       "      <td>romantic</td>\n",
       "      <td>test</td>\n",
       "      <td>imdb</td>\n",
       "      <td>romantic</td>\n",
       "      <td>1</td>\n",
       "      <td>matuschekis gift store budapest workplac alfr ...</td>\n",
       "      <td>the shop around corner</td>\n",
       "    </tr>\n",
       "    <tr>\n",
       "      <th>3</th>\n",
       "      <td>tt0113862</td>\n",
       "      <td>Mr. Holland's Opus</td>\n",
       "      <td>Glenn Holland, not a morning person by anyone'...</td>\n",
       "      <td>inspiring, romantic, stupid, feel-good</td>\n",
       "      <td>train</td>\n",
       "      <td>imdb</td>\n",
       "      <td>inspiring,romantic,stupid,feel_good</td>\n",
       "      <td>4</td>\n",
       "      <td>glenn holland morn person anyonei standard wok...</td>\n",
       "      <td>mr. hollandi opus</td>\n",
       "    </tr>\n",
       "    <tr>\n",
       "      <th>4</th>\n",
       "      <td>tt0086250</td>\n",
       "      <td>Scarface</td>\n",
       "      <td>In May 1980, a Cuban man named Tony Montana (A...</td>\n",
       "      <td>cruelty, murder, dramatic, cult, violence, atm...</td>\n",
       "      <td>val</td>\n",
       "      <td>imdb</td>\n",
       "      <td>cruelty,murder,dramatic,cult,violence,atmosphe...</td>\n",
       "      <td>10</td>\n",
       "      <td>in may cuban man name toni montana al pacino c...</td>\n",
       "      <td>scarfac</td>\n",
       "    </tr>\n",
       "  </tbody>\n",
       "</table>\n",
       "</div>"
      ],
      "text/plain": [
       "     imdb_id  ...                          clean_title\n",
       "0  tt0057603  ...              i tre volti della paura\n",
       "1  tt1733125  ...  dungeon dragons: the book vile dark\n",
       "2  tt0033045  ...               the shop around corner\n",
       "3  tt0113862  ...                    mr. hollandi opus\n",
       "4  tt0086250  ...                              scarfac\n",
       "\n",
       "[5 rows x 10 columns]"
      ]
     },
     "execution_count": 91,
     "metadata": {
      "tags": []
     },
     "output_type": "execute_result"
    }
   ],
   "source": [
    "data['clean_title'] = clean_title\n",
    "data.to_csv('data.csv', index=False)\n",
    "data.head()"
   ]
  },
  {
   "cell_type": "markdown",
   "metadata": {
    "colab_type": "text",
    "id": "J5xAj-A5AaQw"
   },
   "source": [
    "## Splitting Data (Based on split column in dataset)"
   ]
  },
  {
   "cell_type": "code",
   "execution_count": 0,
   "metadata": {
    "colab": {},
    "colab_type": "code",
    "id": "oPIsHmNPgVr2"
   },
   "outputs": [],
   "source": [
    "data = pd.read_csv('data.csv')"
   ]
  },
  {
   "cell_type": "code",
   "execution_count": 0,
   "metadata": {
    "colab": {
     "base_uri": "https://localhost:8080/",
     "height": 547
    },
    "colab_type": "code",
    "id": "jXrX2mQXmUiY",
    "outputId": "cd1ba574-4ccd-4c69-b1db-2c04e14e3e80"
   },
   "outputs": [
    {
     "data": {
      "text/html": [
       "<div>\n",
       "<style scoped>\n",
       "    .dataframe tbody tr th:only-of-type {\n",
       "        vertical-align: middle;\n",
       "    }\n",
       "\n",
       "    .dataframe tbody tr th {\n",
       "        vertical-align: top;\n",
       "    }\n",
       "\n",
       "    .dataframe thead th {\n",
       "        text-align: right;\n",
       "    }\n",
       "</style>\n",
       "<table border=\"1\" class=\"dataframe\">\n",
       "  <thead>\n",
       "    <tr style=\"text-align: right;\">\n",
       "      <th></th>\n",
       "      <th>imdb_id</th>\n",
       "      <th>title</th>\n",
       "      <th>plot_synopsis</th>\n",
       "      <th>tags</th>\n",
       "      <th>split</th>\n",
       "      <th>synopsis_source</th>\n",
       "      <th>clean_tag</th>\n",
       "      <th>no_tags</th>\n",
       "      <th>clean_plot_synopsis</th>\n",
       "      <th>clean_title</th>\n",
       "    </tr>\n",
       "  </thead>\n",
       "  <tbody>\n",
       "    <tr>\n",
       "      <th>0</th>\n",
       "      <td>tt0057603</td>\n",
       "      <td>I tre volti della paura</td>\n",
       "      <td>Note: this synopsis is for the orginal Italian...</td>\n",
       "      <td>cult, horror, gothic, murder, atmospheric</td>\n",
       "      <td>train</td>\n",
       "      <td>imdb</td>\n",
       "      <td>cult,horror,gothic,murder,atmospheric</td>\n",
       "      <td>5</td>\n",
       "      <td>note synopsi orgin italian releas segment cert...</td>\n",
       "      <td>i tre volti della paura</td>\n",
       "    </tr>\n",
       "    <tr>\n",
       "      <th>1</th>\n",
       "      <td>tt1733125</td>\n",
       "      <td>Dungeons &amp; Dragons: The Book of Vile Darkness</td>\n",
       "      <td>Two thousand years ago, Nhagruul the Foul, a s...</td>\n",
       "      <td>violence</td>\n",
       "      <td>train</td>\n",
       "      <td>imdb</td>\n",
       "      <td>violence</td>\n",
       "      <td>1</td>\n",
       "      <td>two thousand year ago nhagruul foul sorcer rev...</td>\n",
       "      <td>dungeon dragons: the book vile dark</td>\n",
       "    </tr>\n",
       "    <tr>\n",
       "      <th>2</th>\n",
       "      <td>tt0033045</td>\n",
       "      <td>The Shop Around the Corner</td>\n",
       "      <td>Matuschek's, a gift store in Budapest, is the ...</td>\n",
       "      <td>romantic</td>\n",
       "      <td>test</td>\n",
       "      <td>imdb</td>\n",
       "      <td>romantic</td>\n",
       "      <td>1</td>\n",
       "      <td>matuschekis gift store budapest workplac alfr ...</td>\n",
       "      <td>the shop around corner</td>\n",
       "    </tr>\n",
       "    <tr>\n",
       "      <th>3</th>\n",
       "      <td>tt0113862</td>\n",
       "      <td>Mr. Holland's Opus</td>\n",
       "      <td>Glenn Holland, not a morning person by anyone'...</td>\n",
       "      <td>inspiring, romantic, stupid, feel-good</td>\n",
       "      <td>train</td>\n",
       "      <td>imdb</td>\n",
       "      <td>inspiring,romantic,stupid,feel_good</td>\n",
       "      <td>4</td>\n",
       "      <td>glenn holland morn person anyonei standard wok...</td>\n",
       "      <td>mr. hollandi opus</td>\n",
       "    </tr>\n",
       "    <tr>\n",
       "      <th>4</th>\n",
       "      <td>tt0086250</td>\n",
       "      <td>Scarface</td>\n",
       "      <td>In May 1980, a Cuban man named Tony Montana (A...</td>\n",
       "      <td>cruelty, murder, dramatic, cult, violence, atm...</td>\n",
       "      <td>val</td>\n",
       "      <td>imdb</td>\n",
       "      <td>cruelty,murder,dramatic,cult,violence,atmosphe...</td>\n",
       "      <td>10</td>\n",
       "      <td>in may cuban man name toni montana al pacino c...</td>\n",
       "      <td>scarfac</td>\n",
       "    </tr>\n",
       "  </tbody>\n",
       "</table>\n",
       "</div>"
      ],
      "text/plain": [
       "     imdb_id  ...                          clean_title\n",
       "0  tt0057603  ...              i tre volti della paura\n",
       "1  tt1733125  ...  dungeon dragons: the book vile dark\n",
       "2  tt0033045  ...               the shop around corner\n",
       "3  tt0113862  ...                    mr. hollandi opus\n",
       "4  tt0086250  ...                              scarfac\n",
       "\n",
       "[5 rows x 10 columns]"
      ]
     },
     "execution_count": 93,
     "metadata": {
      "tags": []
     },
     "output_type": "execute_result"
    }
   ],
   "source": [
    "data.head()"
   ]
  },
  {
   "cell_type": "code",
   "execution_count": 0,
   "metadata": {
    "colab": {},
    "colab_type": "code",
    "id": "qbfS6U-Jqsz7"
   },
   "outputs": [],
   "source": [
    "d1,d2,d3 = data.groupby('split')\n"
   ]
  },
  {
   "cell_type": "markdown",
   "metadata": {
    "colab_type": "text",
    "id": "-NdEWePmf8ip"
   },
   "source": [
    "<strong>Saving those files into csv format</strong>"
   ]
  },
  {
   "cell_type": "code",
   "execution_count": 0,
   "metadata": {
    "colab": {},
    "colab_type": "code",
    "id": "jyAW81HcuKJ6"
   },
   "outputs": [],
   "source": [
    "d1[1].to_csv('' + d1[0]+'.csv', index = False)\n",
    "d2[1].to_csv('' + d2[0]+'.csv', index = False)\n",
    "d3[1].to_csv('' + d3[0]+'.csv', index = False)"
   ]
  },
  {
   "cell_type": "code",
   "execution_count": 0,
   "metadata": {
    "colab": {},
    "colab_type": "code",
    "id": "j5601kDhCcFt"
   },
   "outputs": [],
   "source": [
    "train = pd.read_csv('train.csv')\n",
    "test  = pd.read_csv('test.csv')\n",
    "val   = pd.read_csv('val.csv')"
   ]
  },
  {
   "cell_type": "code",
   "execution_count": 0,
   "metadata": {
    "colab": {
     "base_uri": "https://localhost:8080/",
     "height": 68
    },
    "colab_type": "code",
    "id": "0gKzqMGaC7as",
    "outputId": "db1da7bf-7d22-4909-9651-aeade29effe5"
   },
   "outputs": [
    {
     "name": "stdout",
     "output_type": "stream",
     "text": [
      "Total number of data points in train data:-  9489 i.e 63%\n",
      "Total number of data points in test  data:-  2966 i.e 20%\n",
      "Total number of data points in val   data:-  2373 i.e 16%\n"
     ]
    }
   ],
   "source": [
    "print('Total number of data points in train data:-  {} i.e {}%'.format(train.shape[0],int(train.shape[0]/data.shape[0]*100)))\n",
    "print('Total number of data points in test  data:-  {} i.e {}%'.format(test.shape[0],int(test.shape[0]/data.shape[0]*100)))\n",
    "print('Total number of data points in val   data:-  {} i.e {}%'.format(val.shape[0],int(val.shape[0]/data.shape[0]*100)))"
   ]
  },
  {
   "cell_type": "markdown",
   "metadata": {
    "colab_type": "text",
    "id": "OlDCgP7wTtwP"
   },
   "source": [
    "## Machine Learning Models"
   ]
  },
  {
   "cell_type": "markdown",
   "metadata": {
    "colab_type": "text",
    "id": "LP92x70dFuCm"
   },
   "source": [
    "## Featurizing Data"
   ]
  },
  {
   "cell_type": "markdown",
   "metadata": {
    "colab_type": "text",
    "id": "T_C8SKYmiq8j"
   },
   "source": [
    "## Featurizing Multilabels"
   ]
  },
  {
   "cell_type": "code",
   "execution_count": 0,
   "metadata": {
    "colab": {},
    "colab_type": "code",
    "id": "CCFvfcNaFtHl"
   },
   "outputs": [],
   "source": [
    "multiclass = CountVectorizer(tokenizer= lambda x:x.split(','), vocabulary=list(tag_count.keys()))\n",
    "ytrain = multiclass.fit_transform(train.clean_tag)\n",
    "ytest  = multiclass.transform(test.clean_tag)\n",
    "yval   = multiclass.transform(val.clean_tag)\n"
   ]
  },
  {
   "cell_type": "code",
   "execution_count": 0,
   "metadata": {
    "colab": {
     "base_uri": "https://localhost:8080/",
     "height": 68
    },
    "colab_type": "code",
    "id": "4IqSW-Y7NWq5",
    "outputId": "6b555c9a-ef2a-49cf-eed2-30e010c0c780"
   },
   "outputs": [
    {
     "name": "stdout",
     "output_type": "stream",
     "text": [
      "Shape of train data:- (9489, 71)\n",
      "Shape of test data :- (2966, 71)\n",
      "Shape of val  data :- (2373, 71)\n"
     ]
    }
   ],
   "source": [
    "print('Shape of train data:-',ytrain.shape)\n",
    "print('Shape of test data :-',ytest.shape)\n",
    "print('Shape of val  data :-',yval.shape)"
   ]
  },
  {
   "cell_type": "markdown",
   "metadata": {
    "colab_type": "text",
    "id": "dhjsd8TWyCIG"
   },
   "source": [
    "` https://arxiv.org/pdf/1802.07858.pdf `\n",
    "\n",
    "<strong>It is strongly said in above paper that if n in  ngram is 1,2,3 it extracts word  and if n in ngram is 3,4 it extracts character</strong>"
   ]
  },
  {
   "cell_type": "markdown",
   "metadata": {
    "colab_type": "text",
    "id": "D_zUWgV3Dqzy"
   },
   "source": [
    "## Vectorizing Plot Synopsis"
   ]
  },
  {
   "cell_type": "markdown",
   "metadata": {
    "colab_type": "text",
    "id": "1Eg9WrtKo5-j"
   },
   "source": [
    "### Applying TFIDF Vectorizer on Plot_synopsis with uni grams"
   ]
  },
  {
   "cell_type": "code",
   "execution_count": 0,
   "metadata": {
    "colab": {},
    "colab_type": "code",
    "id": "19_o9upqo5-N"
   },
   "outputs": [],
   "source": [
    "tfidf_vect_uni  = TfidfVectorizer(ngram_range=(1,1), min_df=10, max_features=20000)\n",
    "tfidf_train_uni = tfidf_vect_uni.fit_transform(train.clean_plot_synopsis)\n",
    "tfidf_test_uni  = tfidf_vect_uni.transform(test.clean_plot_synopsis)\n",
    "tfidf_val_uni    = tfidf_vect_uni.transform(val.clean_plot_synopsis)"
   ]
  },
  {
   "cell_type": "code",
   "execution_count": 0,
   "metadata": {
    "colab": {
     "base_uri": "https://localhost:8080/",
     "height": 68
    },
    "colab_type": "code",
    "id": "xfm2fVmio5-F",
    "outputId": "039eb643-21c2-446a-f33c-90c4b8334245"
   },
   "outputs": [
    {
     "name": "stdout",
     "output_type": "stream",
     "text": [
      "Shape of Train TFIDF (9489, 15606)\n",
      "Shape of Test TFIDF  (2966, 15606)\n",
      "Shape of val TFIDF   (2373, 15606)\n"
     ]
    }
   ],
   "source": [
    "print('Shape of Train TFIDF', tfidf_train_uni.shape)\n",
    "print('Shape of Test TFIDF ', tfidf_test_uni.shape)\n",
    "print('Shape of val TFIDF  ', tfidf_val_uni.shape)"
   ]
  },
  {
   "cell_type": "markdown",
   "metadata": {
    "colab_type": "text",
    "id": "c9VtrqNkqQC0"
   },
   "source": [
    "###  Applying TFIDF Vectorizer on Plot_synopsis with bi grams"
   ]
  },
  {
   "cell_type": "code",
   "execution_count": 0,
   "metadata": {
    "colab": {},
    "colab_type": "code",
    "id": "yxkr9b8eqQC3"
   },
   "outputs": [],
   "source": [
    "tfidf_vect_bi  = TfidfVectorizer(ngram_range=(2,2), min_df=10, max_features=20000)\n",
    "tfidf_train_bi = tfidf_vect_bi.fit_transform(train.clean_plot_synopsis)\n",
    "tfidf_test_bi  = tfidf_vect_bi.transform(test.clean_plot_synopsis)\n",
    "tfidf_val_bi    = tfidf_vect_bi.transform(val.clean_plot_synopsis)"
   ]
  },
  {
   "cell_type": "code",
   "execution_count": 0,
   "metadata": {
    "colab": {
     "base_uri": "https://localhost:8080/",
     "height": 68
    },
    "colab_type": "code",
    "id": "4F4EMkSGqQC6",
    "outputId": "0c3f3ef1-9170-4e12-d952-7e7dffb6c5df"
   },
   "outputs": [
    {
     "name": "stdout",
     "output_type": "stream",
     "text": [
      "Shape of train tfidf bi gram (9489, 20000)\n",
      "Shape of test tfidf bi gram  (2966, 20000)\n",
      "Shape of val  tfidf bi gram (2373, 20000)\n"
     ]
    }
   ],
   "source": [
    "print('Shape of train tfidf bi gram', tfidf_train_bi.shape)\n",
    "print('Shape of test tfidf bi gram ', tfidf_test_bi.shape)\n",
    "print('Shape of val  tfidf bi gram', tfidf_val_bi.shape)"
   ]
  },
  {
   "cell_type": "code",
   "execution_count": 0,
   "metadata": {
    "colab": {},
    "colab_type": "code",
    "id": "oJqG9opSrBdx"
   },
   "outputs": [],
   "source": []
  },
  {
   "cell_type": "markdown",
   "metadata": {
    "colab_type": "text",
    "id": "Q_dj-u8orDd6"
   },
   "source": [
    "###  Applying TFIDF Vectorizer on Plot_synopsis with tri grams"
   ]
  },
  {
   "cell_type": "code",
   "execution_count": 0,
   "metadata": {
    "colab": {},
    "colab_type": "code",
    "id": "x40i2HybrDd9"
   },
   "outputs": [],
   "source": [
    "tfidf_vect_tri  = TfidfVectorizer(ngram_range=(3,3), min_df=10, max_features=20000)\n",
    "tfidf_train_tri = tfidf_vect_tri.fit_transform(train.clean_plot_synopsis)\n",
    "tfidf_test_tri  = tfidf_vect_tri.transform(test.clean_plot_synopsis)\n",
    "tfidf_val_tri    = tfidf_vect_tri.transform(val.clean_plot_synopsis)"
   ]
  },
  {
   "cell_type": "code",
   "execution_count": 0,
   "metadata": {
    "colab": {
     "base_uri": "https://localhost:8080/",
     "height": 68
    },
    "colab_type": "code",
    "id": "-nEVeQTOrDeB",
    "outputId": "10fc92cd-cfa0-4cca-e527-3ae74e223a31"
   },
   "outputs": [
    {
     "name": "stdout",
     "output_type": "stream",
     "text": [
      "Shape of train tfidf tri gram (9489, 1594)\n",
      "Shape of test tfidf tri gram  (2966, 1594)\n",
      "Shape of val  tfidf tri gram (2373, 1594)\n"
     ]
    }
   ],
   "source": [
    "print('Shape of train tfidf tri gram', tfidf_train_tri.shape)\n",
    "print('Shape of test tfidf tri gram ', tfidf_test_tri.shape)\n",
    "print('Shape of val  tfidf tri gram', tfidf_val_tri.shape)"
   ]
  },
  {
   "cell_type": "code",
   "execution_count": 0,
   "metadata": {
    "colab": {},
    "colab_type": "code",
    "id": "31siNw19tslT"
   },
   "outputs": [],
   "source": []
  },
  {
   "cell_type": "markdown",
   "metadata": {
    "colab_type": "text",
    "id": "fEc_ndaMturq"
   },
   "source": [
    "###  Applying TFIDF Vectorizer on Plot_synopsis with char 3 grams"
   ]
  },
  {
   "cell_type": "code",
   "execution_count": 0,
   "metadata": {
    "colab": {},
    "colab_type": "code",
    "id": "G0aAVjukturr"
   },
   "outputs": [],
   "source": [
    "tfidf_vect_char3  = TfidfVectorizer(ngram_range=(3,3), analyzer='char',min_df=10, max_features=20000)\n",
    "tfidf_train_char3 = tfidf_vect_char3.fit_transform(train.clean_plot_synopsis)\n",
    "tfidf_test_char3  = tfidf_vect_char3.transform(test.clean_plot_synopsis)\n",
    "tfidf_val_char3    = tfidf_vect_char3.transform(val.clean_plot_synopsis)"
   ]
  },
  {
   "cell_type": "code",
   "execution_count": 0,
   "metadata": {
    "colab": {
     "base_uri": "https://localhost:8080/",
     "height": 68
    },
    "colab_type": "code",
    "id": "NaBMxYy0tusE",
    "outputId": "c3c01d82-4d0c-4506-b367-44d6bdf2bc51"
   },
   "outputs": [
    {
     "name": "stdout",
     "output_type": "stream",
     "text": [
      "Shape of train tfidf char3 gram (9489, 7944)\n",
      "Shape of test tfidf char3 gram  (2966, 7944)\n",
      "Shape of val  tfidf char3 gram (2373, 7944)\n"
     ]
    }
   ],
   "source": [
    "print('Shape of train tfidf char3 gram', tfidf_train_char3.shape)\n",
    "print('Shape of test tfidf char3 gram ', tfidf_test_char3.shape)\n",
    "print('Shape of val  tfidf char3 gram', tfidf_val_char3.shape)"
   ]
  },
  {
   "cell_type": "markdown",
   "metadata": {
    "colab_type": "text",
    "id": "YQOODdMQu0mX"
   },
   "source": [
    "###  Applying TFIDF Vectorizer on Plot_synopsis with char 4 grams"
   ]
  },
  {
   "cell_type": "code",
   "execution_count": 0,
   "metadata": {
    "colab": {},
    "colab_type": "code",
    "id": "Z-_Wko-Du0mY"
   },
   "outputs": [],
   "source": [
    "tfidf_vect_char4  = TfidfVectorizer(ngram_range=(4,4), analyzer='char',min_df=10, max_features=20000)\n",
    "tfidf_train_char4 = tfidf_vect_char4.fit_transform(train.clean_plot_synopsis)\n",
    "tfidf_test_char4  = tfidf_vect_char4.transform(test.clean_plot_synopsis)\n",
    "tfidf_val_char4    = tfidf_vect_char4.transform(val.clean_plot_synopsis)"
   ]
  },
  {
   "cell_type": "code",
   "execution_count": 0,
   "metadata": {
    "colab": {
     "base_uri": "https://localhost:8080/",
     "height": 68
    },
    "colab_type": "code",
    "id": "JF3aGptru0mt",
    "outputId": "6e1f9993-5081-4508-93ff-e93bdc7b889c"
   },
   "outputs": [
    {
     "name": "stdout",
     "output_type": "stream",
     "text": [
      "Shape of train tfidf char4 gram (9489, 20000)\n",
      "Shape of test tfidf char4 gram  (2966, 20000)\n",
      "Shape of val  tfidf char4 gram (2373, 20000)\n"
     ]
    }
   ],
   "source": [
    "print('Shape of train tfidf char4 gram', tfidf_train_char4.shape)\n",
    "print('Shape of test tfidf char4 gram ', tfidf_test_char4.shape)\n",
    "print('Shape of val  tfidf char4 gram', tfidf_val_char4.shape)"
   ]
  },
  {
   "cell_type": "markdown",
   "metadata": {
    "colab_type": "text",
    "id": "JY_7pqS4zyPD"
   },
   "source": [
    "###  Applying TFIDF Vectorizer on Plot_synopsis with char 3,4 grams"
   ]
  },
  {
   "cell_type": "code",
   "execution_count": 0,
   "metadata": {
    "colab": {},
    "colab_type": "code",
    "id": "BBnywWD7zyPF"
   },
   "outputs": [],
   "source": [
    "tfidf_vect_char34  = TfidfVectorizer(ngram_range=(3,4), analyzer='char',min_df=10, max_features=20000)\n",
    "tfidf_train_char34 = tfidf_vect_char34.fit_transform(train.clean_plot_synopsis)\n",
    "tfidf_test_char34  = tfidf_vect_char34.transform(test.clean_plot_synopsis)\n",
    "tfidf_val_char34    = tfidf_vect_char34.transform(val.clean_plot_synopsis)"
   ]
  },
  {
   "cell_type": "code",
   "execution_count": 0,
   "metadata": {
    "colab": {
     "base_uri": "https://localhost:8080/",
     "height": 68
    },
    "colab_type": "code",
    "id": "KNuqmxBMzyPU",
    "outputId": "7db6069d-ab22-418a-bea2-da4e26d43ec1"
   },
   "outputs": [
    {
     "name": "stdout",
     "output_type": "stream",
     "text": [
      "Shape of train tfidf char34 gram (9489, 20000)\n",
      "Shape of test tfidf char34 gram  (2966, 20000)\n",
      "Shape of val  tfidf char34 gram (2373, 20000)\n"
     ]
    }
   ],
   "source": [
    "print('Shape of train tfidf char34 gram', tfidf_train_char34.shape)\n",
    "print('Shape of test tfidf char34 gram ', tfidf_test_char34.shape)\n",
    "print('Shape of val  tfidf char34 gram', tfidf_val_char34.shape)"
   ]
  },
  {
   "cell_type": "markdown",
   "metadata": {
    "colab_type": "text",
    "id": "vYzj0EzZ0JAC"
   },
   "source": [
    "###  Joining Uni + Bi + Tri"
   ]
  },
  {
   "cell_type": "markdown",
   "metadata": {
    "colab_type": "text",
    "id": "SpD5oVa90U71"
   },
   "source": [
    "### Tfidf"
   ]
  },
  {
   "cell_type": "code",
   "execution_count": 0,
   "metadata": {
    "colab": {},
    "colab_type": "code",
    "id": "owLEgv30zw3c"
   },
   "outputs": [],
   "source": [
    "tfidf_train_ubt = hstack((tfidf_train_uni, tfidf_train_bi, tfidf_train_tri)).tocsr()\n",
    "tfidf_test_ubt  = hstack((tfidf_test_uni, tfidf_test_bi, tfidf_test_tri)).tocsr()\n",
    "tfidf_val_ubt   = hstack((tfidf_val_uni, tfidf_val_bi, tfidf_val_tri)).tocsr()"
   ]
  },
  {
   "cell_type": "code",
   "execution_count": 0,
   "metadata": {
    "colab": {
     "base_uri": "https://localhost:8080/",
     "height": 68
    },
    "colab_type": "code",
    "id": "LKYY55gc1ReG",
    "outputId": "4f7798c6-c96f-43e0-934c-7e32a93f584f"
   },
   "outputs": [
    {
     "name": "stdout",
     "output_type": "stream",
     "text": [
      "Shape of train ubt (9489, 37200)\n",
      "Shape of test  ubt (2966, 37200)\n",
      "Shape of val   ubt (2373, 37200)\n"
     ]
    }
   ],
   "source": [
    "print('Shape of train ubt',tfidf_train_ubt.shape)\n",
    "print('Shape of test  ubt',tfidf_test_ubt.shape)\n",
    "print('Shape of val   ubt',tfidf_val_ubt.shape)\n"
   ]
  },
  {
   "cell_type": "markdown",
   "metadata": {
    "colab_type": "text",
    "id": "vIxev48g2UtS"
   },
   "source": [
    "###  Joining Char 3 + Char 4\n",
    "\n"
   ]
  },
  {
   "cell_type": "markdown",
   "metadata": {
    "colab_type": "text",
    "id": "zEciJ32r2na2"
   },
   "source": [
    "### Tfidf"
   ]
  },
  {
   "cell_type": "code",
   "execution_count": 0,
   "metadata": {
    "colab": {},
    "colab_type": "code",
    "id": "oO0oia4-2mXj"
   },
   "outputs": [],
   "source": [
    "tfidf_train_c34 = hstack((tfidf_train_char3, tfidf_train_char4)).tocsr()\n",
    "tfidf_test_c34  = hstack((tfidf_test_char3, tfidf_test_char4)).tocsr()\n",
    "tfidf_val_c34   = hstack((tfidf_val_char3, tfidf_val_char4)).tocsr()"
   ]
  },
  {
   "cell_type": "code",
   "execution_count": 0,
   "metadata": {
    "colab": {
     "base_uri": "https://localhost:8080/",
     "height": 68
    },
    "colab_type": "code",
    "id": "O4nMPzP82hL6",
    "outputId": "1680e8db-7cff-484e-f15b-1a1cd013495c"
   },
   "outputs": [
    {
     "name": "stdout",
     "output_type": "stream",
     "text": [
      "Shape of train c34 (9489, 27944)\n",
      "Shape of test  c34 (2966, 27944)\n",
      "Shape of val   c34 (2373, 27944)\n"
     ]
    }
   ],
   "source": [
    "print('Shape of train c34',tfidf_train_c34.shape)\n",
    "print('Shape of test  c34',tfidf_test_c34.shape)\n",
    "print('Shape of val   c34',tfidf_val_c34.shape)"
   ]
  },
  {
   "cell_type": "markdown",
   "metadata": {
    "colab_type": "text",
    "id": "9P66zUZj3_VY"
   },
   "source": [
    "###  Joining Uni + Bi + Tri + Char3 + Char4"
   ]
  },
  {
   "cell_type": "markdown",
   "metadata": {
    "colab_type": "text",
    "id": "Pgc9p9GO4OwY"
   },
   "source": [
    "### Tfidf"
   ]
  },
  {
   "cell_type": "code",
   "execution_count": 0,
   "metadata": {
    "colab": {},
    "colab_type": "code",
    "id": "HVMQCx4y4OMx"
   },
   "outputs": [],
   "source": [
    "tfidf_train_ubtc34 = hstack((tfidf_train_ubt, tfidf_train_c34))\n",
    "tfidf_test_ubtc34  = hstack((tfidf_test_ubt, tfidf_test_c34))\n",
    "tfidf_val_ubtc34   = hstack((tfidf_val_ubt, tfidf_val_c34))"
   ]
  },
  {
   "cell_type": "code",
   "execution_count": 0,
   "metadata": {
    "colab": {
     "base_uri": "https://localhost:8080/",
     "height": 68
    },
    "colab_type": "code",
    "id": "ARFsiOZ44OAL",
    "outputId": "d4324543-8dcf-4880-8771-3b43c51a56b5"
   },
   "outputs": [
    {
     "name": "stdout",
     "output_type": "stream",
     "text": [
      "Shape of train ubtc34 (9489, 65144)\n",
      "Shape of test ubtc34  (2966, 65144)\n",
      "Shape of val ubtc34   (2373, 65144)\n"
     ]
    }
   ],
   "source": [
    "print('Shape of train ubtc34',tfidf_train_ubtc34.shape)\n",
    "print('Shape of test ubtc34 ',tfidf_test_ubtc34.shape)\n",
    "print('Shape of val ubtc34  ',tfidf_val_ubtc34.shape)"
   ]
  },
  {
   "cell_type": "code",
   "execution_count": 0,
   "metadata": {
    "colab": {},
    "colab_type": "code",
    "id": "eRwgPF0bV1As"
   },
   "outputs": [],
   "source": [
    "# #Making Copy of pickle files \n",
    "# for i in os.listdir(''):\n",
    "#   if i[-3:] == 'pkl':\n",
    "#       shutil.copyfile('' + i,'copy_of_pkls/'+i)\n",
    "#       # os.remove('' + i)\n",
    "# print('done')    \n",
    "\n"
   ]
  },
  {
   "cell_type": "markdown",
   "metadata": {
    "colab_type": "text",
    "id": "QiBjgqHP8xKB"
   },
   "source": [
    "# Applying Models\n",
    "## Logistic Regression(SGD)\n"
   ]
  },
  {
   "cell_type": "markdown",
   "metadata": {
    "colab_type": "text",
    "id": "eoyH_ET386QR"
   },
   "source": [
    "### On Uni Gram Vectors"
   ]
  },
  {
   "cell_type": "markdown",
   "metadata": {
    "colab_type": "text",
    "id": "jAySq1Hp-Gaj"
   },
   "source": [
    "### On TFIDF Vectors "
   ]
  },
  {
   "cell_type": "code",
   "execution_count": 0,
   "metadata": {
    "colab": {},
    "colab_type": "code",
    "id": "OPn_s1onw5iK"
   },
   "outputs": [],
   "source": [
    "final_tab = PrettyTable(['n-grams','Vector','Model','Tags','Alpha','Hammming Loss','F1Score'])"
   ]
  },
  {
   "cell_type": "code",
   "execution_count": 0,
   "metadata": {
    "colab": {},
    "colab_type": "code",
    "id": "xAB3_hMxtOd8"
   },
   "outputs": [],
   "source": [
    "from prettytable import from_html_one"
   ]
  },
  {
   "cell_type": "code",
   "execution_count": 0,
   "metadata": {
    "colab": {},
    "colab_type": "code",
    "id": "XieltoSluGOz"
   },
   "outputs": [],
   "source": [
    "with open('final_tab.html','r') as f:\n",
    "\n",
    "  final_tab = from_html_one(f.read())"
   ]
  },
  {
   "cell_type": "code",
   "execution_count": 0,
   "metadata": {
    "colab": {},
    "colab_type": "code",
    "id": "_lJsVxzND7Kw"
   },
   "outputs": [],
   "source": [
    "\n",
    "def apply_algo(xtrain,xtest,xval,ytr,yte,yval,loss = 'log',algo = 'sgd',ngm='Uni',vec='Tfidf',tag = 'Top3'):\n",
    "        \n",
    "        '''This is a sgd function that helps to hyperparameter tune and get f1score for SVM and Logistic Regression \n",
    "           with SGD and appends hamming loss, f1score for final table\n",
    "           Parameters:\n",
    "               xtrain:- Train Data\n",
    "               xtest :- Test Data\n",
    "               xval  :- Validation Data\n",
    "               ytr   :- Y Train Data\n",
    "               yte   :- Y Test Data\n",
    "               yval  :- Y Validation Data\n",
    "               loss  :-\"log\" for logistic regression\n",
    "                       \"sgd\" for svm\n",
    "                      \n",
    "               algo  :- \"sgd\" to use SGD algorithm\n",
    "                        \"<other than sgd> to use normal Logistic Regression algorithem\"\n",
    "               ngm   :-While appending f1scores to final table we can represent what kind of data is used to get \n",
    "                       this f1score (Uni,Bi,Tri,Char,Char3,Char4,Char34...etc)\n",
    "               vec   :-While appending f1scores to final table we can represent what kind of data is used to get \n",
    "                       this f1score (Tfidf,Countvect...etc)\n",
    "               tag   :-While appending f1scores to final table we can represent what kind of target data \n",
    "                       is used to get this f1score (Top3,Top5...etc)'''\n",
    "               \n",
    "        \n",
    "        alpha = [0.000001,0.00001,0.0001,0.001,0.01,0.1,1,10,100,1000]\n",
    "       \n",
    "\n",
    "\n",
    "        # for i in alpha:\n",
    "\n",
    "        #     model = OneVsRestClassifier(SGDClassifier(loss=loss, alpha=i, verbose=0, class_weight='balanced'))\n",
    "        #     model.fit(xtrain,ytrain)\n",
    "        #     # ytrainpred = model.predict(xtrain)\n",
    "        #     ypred = model.predict(xval)\n",
    "        #     hl = hamming_loss(yval, ypred)\n",
    "        #     p_score = precision_score(yval,ypred, average='micro')\n",
    "        #     recall   = recall_score(yval, ypred, average='micro')\n",
    "        #     f1      = f1_score(yval, ypred, average='micro')\n",
    "        #     # f1train = f1_score(ytrain,ytrainpred, average='micro')\n",
    "\n",
    "        #     print('Alpha:{} Hamming Loss:{} Precision:{} Recall:{} f1score:{}'.format(i,hl,p_score,recall,f1))\n",
    "        #     hyper_tab.add_row([i,hl,p_score, recall,f1])\n",
    "        # print(hyper_tab)\n",
    "        # del hyper_tab\n",
    "        \n",
    "        \n",
    "        if algo == 'sgd':\n",
    "            \n",
    "            if loss == 'hinge':\n",
    "              mod = 'SVM'\n",
    "            elif loss == 'log':\n",
    "              mod = 'Logistic Regression(SGD)'\n",
    "\n",
    "\n",
    "            hyper = {'estimator__alpha':alpha,'estimator__penalty':['l1','l2']}\n",
    "\n",
    "            classifier = OneVsRestClassifier(SGDClassifier(loss=loss, penalty='l2', class_weight='balanced', n_jobs=-1, verbose=10))\n",
    "            \n",
    "        else:\n",
    "            mod = 'Logistic Regression'\n",
    "            print('\\nApplying Normal Logistic Regression')\n",
    "            hyper = {'estimator__C':alpha,'estimator__penalty':['l1','l2']}\n",
    "            classifier = OneVsRestClassifier(LogisticRegression(class_weight='balanced', n_jobs=-1))\n",
    "\n",
    "\n",
    "\n",
    "\n",
    "        GS = GridSearchCV(classifier, hyper, verbose=10, scoring='f1_micro', n_jobs=-1)\n",
    "        sys.stdout.write('Fitting with Gridsearch...\\n')\n",
    "        # print(xtrain.shape)\n",
    "        # print(ytrain.shape)\n",
    "        GS.fit(xtrain, ytr)\n",
    "        # predictions = GS.predict (xval)\n",
    "        print('*'*50)\n",
    "        print(GS.best_estimator_)\n",
    "        print('*'*50)\n",
    "        sys.stdout.write('****************************Fitting with best estimator**********************')\n",
    "        bgs = GS.best_estimator_\n",
    "        bgs.fit(xtrain, ytr)\n",
    "        sys.stdout.write('\\npredicting')\n",
    "        predictions = bgs.predict(xval)\n",
    "        print(\"\\nVal Accuracy :\",metrics.accuracy_score(yval, predictions))\n",
    "        print(\"\\nVal Hamming loss \",metrics.hamming_loss(yval,predictions))\n",
    "        print(\"\\nVal f1-score\", metrics.f1_score(yval, predictions, average='micro'))\n",
    "\n",
    "\n",
    "        precision = precision_score(yval, predictions, average='micro')\n",
    "        recall = recall_score(yval, predictions, average='micro')\n",
    "        f1 = f1_score(yval, predictions, average='micro')\n",
    "        \n",
    "        print(\"\\nMicro-average on test data\")\n",
    "        print(\"\\nPrecision: {:.4f}, Recall: {:.4f}, F1-measure: {:.4f}\".format(precision, recall, f1))\n",
    "\n",
    "        test_pred = bgs.predict(xtest)\n",
    "        test_hl   = metrics.recall_score(yte,test_pred, average='micro')\n",
    "        test_f1   = metrics.f1_score(yte,test_pred, average='micro')\n",
    "        print (metrics.classification_report(yte, test_pred))\n",
    "\n",
    "\n",
    "        if mod == 'Logistic Regression':\n",
    "          hyp = bgs.estimator.C\n",
    "        else:\n",
    "          hyp = bgs.estimator.alpha\n",
    "\n",
    "        print(test_f1)\n",
    "\n",
    "        final_tab.add_row([ngm,vec,mod,tag,hyp,test_hl,test_f1])\n",
    "        return bgs\n",
    "\n",
    "    "
   ]
  },
  {
   "cell_type": "code",
   "execution_count": 0,
   "metadata": {
    "colab": {},
    "colab_type": "code",
    "id": "4l61aVIx-6Lp"
   },
   "outputs": [],
   "source": [
    "logistic_model = apply_algo(tfidf_train_uni, tfidf_test_uni,tfidf_val_uni,ytrain,ytest,yval)\n",
    "# logistic_model.fit(tfidf_train_plot_syn_uni,ytrain)"
   ]
  },
  {
   "cell_type": "markdown",
   "metadata": {
    "colab_type": "text",
    "id": "h5fl3TelDOn7"
   },
   "source": [
    "## On Bi-Grams"
   ]
  },
  {
   "cell_type": "markdown",
   "metadata": {
    "colab_type": "text",
    "id": "LfN1853JGpCX"
   },
   "source": [
    "## On TFIDF Vector \n"
   ]
  },
  {
   "cell_type": "code",
   "execution_count": 0,
   "metadata": {
    "colab": {},
    "colab_type": "code",
    "id": "TL3Hw6yGDRXg"
   },
   "outputs": [],
   "source": [
    "logistic_model_bi = apply_algo(tfidf_train_bi, tfidf_test_bi,tfidf_val_bi,ytrain,ytest,yval, ngm='Bi')"
   ]
  },
  {
   "cell_type": "markdown",
   "metadata": {
    "colab_type": "text",
    "id": "X3-jIw1wIsBt"
   },
   "source": [
    "## On Tri-Grams"
   ]
  },
  {
   "cell_type": "markdown",
   "metadata": {
    "colab_type": "text",
    "id": "OcAgctWNIxkI"
   },
   "source": [
    "### On TFIDF Vector"
   ]
  },
  {
   "cell_type": "code",
   "execution_count": 0,
   "metadata": {
    "colab": {},
    "colab_type": "code",
    "id": "N4y2Pt77I1Lc"
   },
   "outputs": [],
   "source": [
    "logistic_model_tri = apply_algo(tfidf_train_tri, tfidf_test_tri,tfidf_val_tri,ytrain,ytest,yval,ngm='Tri')"
   ]
  },
  {
   "cell_type": "markdown",
   "metadata": {
    "colab_type": "text",
    "id": "eXpQ2JOM2wBd"
   },
   "source": [
    "## On Char 3"
   ]
  },
  {
   "cell_type": "markdown",
   "metadata": {
    "colab_type": "text",
    "id": "G05XWH3L2wBe"
   },
   "source": [
    "### On TFIDF Vector"
   ]
  },
  {
   "cell_type": "code",
   "execution_count": 0,
   "metadata": {
    "colab": {},
    "colab_type": "code",
    "id": "MrTvEGNv2wBf"
   },
   "outputs": [],
   "source": [
    "logistic_model_char = apply_algo(tfidf_train_char3, tfidf_test_char3,tfidf_val_char3,ytrain,ytest,yval,ngm='Char 3')"
   ]
  },
  {
   "cell_type": "markdown",
   "metadata": {
    "colab_type": "text",
    "id": "PclZ8ENxWDDd"
   },
   "source": [
    "## On Char 4"
   ]
  },
  {
   "cell_type": "markdown",
   "metadata": {
    "colab_type": "text",
    "id": "Z-aycoKZWDDf"
   },
   "source": [
    "### On TFIDF Vector"
   ]
  },
  {
   "cell_type": "code",
   "execution_count": 0,
   "metadata": {
    "colab": {},
    "colab_type": "code",
    "id": "UAdCVgzkWDDg"
   },
   "outputs": [],
   "source": [
    "logistic_model_char = apply_algo(tfidf_train_char4, tfidf_test_char4,tfidf_val_char4,ytrain,ytest,yval,ngm='Char 4')"
   ]
  },
  {
   "cell_type": "code",
   "execution_count": 0,
   "metadata": {
    "colab": {},
    "colab_type": "code",
    "id": "RRM8cu3xWDDk"
   },
   "outputs": [],
   "source": [
    "print(final_tab)"
   ]
  },
  {
   "cell_type": "markdown",
   "metadata": {
    "colab_type": "text",
    "id": "ekFMpkziqU-e"
   },
   "source": [
    "## On Char 3,4"
   ]
  },
  {
   "cell_type": "markdown",
   "metadata": {
    "colab_type": "text",
    "id": "NHfATx5HqU-g"
   },
   "source": [
    "### On TFIDF Vector"
   ]
  },
  {
   "cell_type": "code",
   "execution_count": 0,
   "metadata": {
    "colab": {},
    "colab_type": "code",
    "id": "KeAJ9ERKqU-g"
   },
   "outputs": [],
   "source": [
    "logistic_model_char = apply_algo(tfidf_train_char34, tfidf_test_char34,tfidf_val_char34,ytrain,ytest,yval,ngm='Char 34')"
   ]
  },
  {
   "cell_type": "markdown",
   "metadata": {
    "colab_type": "text",
    "id": "9Vc8KDuKsN28"
   },
   "source": [
    "## On Uni + Bi + Tri"
   ]
  },
  {
   "cell_type": "markdown",
   "metadata": {
    "colab_type": "text",
    "id": "ZbHr_uG8sN2-"
   },
   "source": [
    "### On TFIDF Vector"
   ]
  },
  {
   "cell_type": "code",
   "execution_count": 0,
   "metadata": {
    "colab": {},
    "colab_type": "code",
    "id": "DeMlvMvVsN3A"
   },
   "outputs": [],
   "source": [
    "logistic_model_char = apply_algo(tfidf_train_ubt, tfidf_test_ubt,tfidf_val_ubt,ytrain,ytest,yval,ngm='U+B+T')"
   ]
  },
  {
   "cell_type": "markdown",
   "metadata": {
    "colab_type": "text",
    "id": "Rn4mxdnatCD-"
   },
   "source": [
    "## On Uni + Bi + Tri + Char3 + Char 4"
   ]
  },
  {
   "cell_type": "markdown",
   "metadata": {
    "colab_type": "text",
    "id": "Is3P3_uxtCEB"
   },
   "source": [
    "### On TFIDF Vector"
   ]
  },
  {
   "cell_type": "code",
   "execution_count": 0,
   "metadata": {
    "colab": {},
    "colab_type": "code",
    "id": "rh4undiXtCEC"
   },
   "outputs": [],
   "source": [
    "logistic_model_char = apply_algo(tfidf_train_ubtc34, tfidf_test_ubtc34,tfidf_val_ubtc34,ytrain,ytest,yval,ngm='U+B+T+C3+C4')"
   ]
  },
  {
   "cell_type": "code",
   "execution_count": 0,
   "metadata": {
    "colab": {
     "base_uri": "https://localhost:8080/",
     "height": 221
    },
    "colab_type": "code",
    "id": "XXAGQucItCEH",
    "outputId": "a3dc0780-17ad-46d3-c894-d1de1e38a24b"
   },
   "outputs": [
    {
     "name": "stdout",
     "output_type": "stream",
     "text": [
      "+-------------+--------+--------------------------+--------+---------------------+---------------------+\n",
      "|   n-grams   | Vector |          Model           | Alpha  |    Hammming Loss    |       F1Score       |\n",
      "+-------------+--------+--------------------------+--------+---------------------+---------------------+\n",
      "|     Uni     | Tfidf  | Logistic Regression(SGD) | 0.0001 |  0.4401463090223897 |  0.3434823977164605 |\n",
      "|      Bi     | Tfidf  | Logistic Regression(SGD) | 0.001  | 0.35446685878962536 | 0.34948909895634117 |\n",
      "|     Tri     | Tfidf  | Logistic Regression(SGD) | 0.001  |  0.3563511416537353 | 0.16809139152484773 |\n",
      "|    Char 3   | Tfidf  | Logistic Regression(SGD) | 0.0001 |  0.4830414542230104 | 0.31824156564918943 |\n",
      "|    Char 4   | Tfidf  | Logistic Regression(SGD) | 0.0001 |  0.4454666371092884 |  0.3476643598615917 |\n",
      "|   Char 34   | Tfidf  | Logistic Regression(SGD) | 0.0001 | 0.46209266238084684 | 0.33784440842787683 |\n",
      "|    U+B+T    | Tfidf  | Logistic Regression(SGD) | 0.001  | 0.42928397251163825 |  0.362742343354875  |\n",
      "| U+B+T+C3+C4 | Tfidf  | Logistic Regression(SGD) | 0.001  |  0.454555530924407  |  0.3701430569971569 |\n",
      "+-------------+--------+--------------------------+--------+---------------------+---------------------+\n"
     ]
    }
   ],
   "source": [
    "# with open('final_tab.html','w') as f:\n",
    "#   f.write(final_tab.get_html_string())\n",
    "\n",
    "with open('final_tab.html','r')  as f:\n",
    "  print(from_html_one(f.read()))"
   ]
  },
  {
   "cell_type": "markdown",
   "metadata": {
    "colab_type": "text",
    "id": "QmEMXRodO8Kq"
   },
   "source": [
    "# Normal Logistic Regression\n"
   ]
  },
  {
   "cell_type": "markdown",
   "metadata": {
    "colab_type": "text",
    "id": "fUO2dfhRO8Ks"
   },
   "source": [
    "### On Uni Gram Vectors"
   ]
  },
  {
   "cell_type": "markdown",
   "metadata": {
    "colab_type": "text",
    "id": "j7voZOZyO8Kt"
   },
   "source": [
    "### On TFIDF Vectors"
   ]
  },
  {
   "cell_type": "code",
   "execution_count": 0,
   "metadata": {
    "colab": {},
    "colab_type": "code",
    "id": "d06To7IvO8Ku",
    "scrolled": true
   },
   "outputs": [],
   "source": [
    "l_model_uni = apply_algo(tfidf_train_uni, tfidf_test_uni,tfidf_val_uni,ytrain,ytest,yval, algo = 'n')\n"
   ]
  },
  {
   "cell_type": "markdown",
   "metadata": {
    "colab_type": "text",
    "id": "ssV-R_k2O8Lk"
   },
   "source": [
    "## On Bi-Grams"
   ]
  },
  {
   "cell_type": "markdown",
   "metadata": {
    "colab_type": "text",
    "id": "ib-3e3gwO8Ll"
   },
   "source": [
    "## On TFIDF Vector"
   ]
  },
  {
   "cell_type": "code",
   "execution_count": 0,
   "metadata": {
    "colab": {},
    "colab_type": "code",
    "id": "-7Td8VOmO8Lq"
   },
   "outputs": [],
   "source": [
    "l_model_bi = apply_algo(tfidf_train_bi, tfidf_test_bi,tfidf_val_bi,ytrain,ytest,yval,ngm='Bi',algo='n')"
   ]
  },
  {
   "cell_type": "markdown",
   "metadata": {
    "colab_type": "text",
    "id": "dh6xnKcUO8ML"
   },
   "source": [
    "## On Tri-Grams"
   ]
  },
  {
   "cell_type": "markdown",
   "metadata": {
    "colab_type": "text",
    "id": "lGBHi0A9O8MM"
   },
   "source": [
    "### On TFIDF Vector"
   ]
  },
  {
   "cell_type": "code",
   "execution_count": 0,
   "metadata": {
    "colab": {},
    "colab_type": "code",
    "id": "9OHKEQwNO8MN"
   },
   "outputs": [],
   "source": [
    "l_model_tri = apply_algo(tfidf_train_tri, tfidf_test_tri,tfidf_val_tri,ytrain,ytest,yval,ngm='Tri',algo = 'n')"
   ]
  },
  {
   "cell_type": "markdown",
   "metadata": {
    "colab_type": "text",
    "id": "cfykr-dJEvCe"
   },
   "source": [
    "## On Char 3"
   ]
  },
  {
   "cell_type": "markdown",
   "metadata": {
    "colab_type": "text",
    "id": "pvnJ_WSwEvCg"
   },
   "source": [
    "### On TFIDF Vector"
   ]
  },
  {
   "cell_type": "code",
   "execution_count": 0,
   "metadata": {
    "colab": {},
    "colab_type": "code",
    "id": "hFUCJG2rEvCh",
    "scrolled": true
   },
   "outputs": [],
   "source": [
    "l_model_char = apply_algo(tfidf_train_char3, tfidf_test_char3,tfidf_val_char3,ytrain,ytest,yval,ngm='Char 3',algo = 'n')"
   ]
  },
  {
   "cell_type": "code",
   "execution_count": 0,
   "metadata": {
    "colab": {},
    "colab_type": "code",
    "id": "UaHM8utfEvCn"
   },
   "outputs": [],
   "source": []
  },
  {
   "cell_type": "markdown",
   "metadata": {
    "colab_type": "text",
    "id": "XwxcYv_Y3W8F"
   },
   "source": [
    "## On Char 4"
   ]
  },
  {
   "cell_type": "markdown",
   "metadata": {
    "colab_type": "text",
    "id": "B65HSpcV3W8G"
   },
   "source": [
    "### On TFIDF Vector"
   ]
  },
  {
   "cell_type": "code",
   "execution_count": 0,
   "metadata": {
    "colab": {},
    "colab_type": "code",
    "id": "NYJQF7yL3W8I",
    "scrolled": true
   },
   "outputs": [],
   "source": [
    "l_model_char = apply_algo(tfidf_train_char4, tfidf_test_char4,tfidf_val_char4,ytrain,ytest,yval, loss = 'hinge',ngm='Char 4',algo = 'n')"
   ]
  },
  {
   "cell_type": "markdown",
   "metadata": {
    "colab_type": "text",
    "id": "RSe6XguC0EEy"
   },
   "source": [
    "## On Char 3,4"
   ]
  },
  {
   "cell_type": "markdown",
   "metadata": {
    "colab_type": "text",
    "id": "MyIqzTbQ0EEz"
   },
   "source": [
    "### On TFIDF Vector"
   ]
  },
  {
   "cell_type": "code",
   "execution_count": 0,
   "metadata": {
    "colab": {},
    "colab_type": "code",
    "id": "-_WH8g4-0EE3"
   },
   "outputs": [],
   "source": [
    "l_model_char = apply_algo(tfidf_train_char34, tfidf_test_char34,tfidf_val_char34,ytrain,ytest,yval,ngm='Char 34',loss = 'hinge',algo = 'n')"
   ]
  },
  {
   "cell_type": "markdown",
   "metadata": {
    "colab_type": "text",
    "id": "Gl0LcLmR0EFO"
   },
   "source": [
    "## On Uni + Bi + Tri"
   ]
  },
  {
   "cell_type": "markdown",
   "metadata": {
    "colab_type": "text",
    "id": "TqUCp7ZN0EFP"
   },
   "source": [
    "### On TFIDF Vector"
   ]
  },
  {
   "cell_type": "code",
   "execution_count": 0,
   "metadata": {
    "colab": {
     "base_uri": "https://localhost:8080/",
     "height": 989
    },
    "colab_type": "code",
    "id": "boeUeXd50EFP",
    "outputId": "8bf628ba-a6cc-437b-ea47-32f4351ea9af"
   },
   "outputs": [
    {
     "name": "stdout",
     "output_type": "stream",
     "text": [
      "\n",
      "Applying Normal Logistic Regression\n",
      "Fitting with Gridsearch...\n",
      "Fitting 3 folds for each of 20 candidates, totalling 60 fits\n"
     ]
    },
    {
     "name": "stderr",
     "output_type": "stream",
     "text": [
      "[Parallel(n_jobs=-1)]: Using backend LokyBackend with 8 concurrent workers.\n",
      "[Parallel(n_jobs=-1)]: Done   2 tasks      | elapsed:   12.1s\n",
      "[Parallel(n_jobs=-1)]: Done   9 tasks      | elapsed:   22.6s\n",
      "[Parallel(n_jobs=-1)]: Done  16 tasks      | elapsed:   41.4s\n",
      "[Parallel(n_jobs=-1)]: Done  25 tasks      | elapsed:  1.0min\n",
      "[Parallel(n_jobs=-1)]: Done  34 tasks      | elapsed:  2.0min\n",
      "[Parallel(n_jobs=-1)]: Done  45 tasks      | elapsed:  4.0min\n",
      "[Parallel(n_jobs=-1)]: Done  52 out of  60 | elapsed:  5.8min remaining:   53.9s\n",
      "[Parallel(n_jobs=-1)]: Done  60 out of  60 | elapsed:  8.5min finished\n"
     ]
    },
    {
     "name": "stdout",
     "output_type": "stream",
     "text": [
      "**************************************************\n",
      "OneVsRestClassifier(estimator=LogisticRegression(C=0.1, class_weight='balanced',\n",
      "                                                 dual=False, fit_intercept=True,\n",
      "                                                 intercept_scaling=1,\n",
      "                                                 l1_ratio=None, max_iter=100,\n",
      "                                                 multi_class='warn', n_jobs=-1,\n",
      "                                                 penalty='l2',\n",
      "                                                 random_state=None,\n",
      "                                                 solver='warn', tol=0.0001,\n",
      "                                                 verbose=0, warm_start=False),\n",
      "                    n_jobs=None)\n",
      "**************************************************\n",
      "****************************Fitting with best estimator**********************\n",
      "predicting\n",
      "Val Accuracy : 0.03876949009692372\n",
      "\n",
      "Val Hamming loss  0.06148394793540001\n",
      "\n",
      "Val f1-score 0.37100006072014086\n",
      "\n",
      "Micro-average on test data\n",
      "\n",
      "Precision: 0.3282, Recall: 0.4266, F1-measure: 0.3710\n",
      "              precision    recall  f1-score   support\n",
      "\n",
      "           0       0.65      0.70      0.68      1155\n",
      "           1       0.54      0.69      0.61       911\n",
      "           2       0.32      0.44      0.37       596\n",
      "           3       0.41      0.59      0.48       587\n",
      "           4       0.32      0.50      0.39       551\n",
      "           5       0.33      0.50      0.40       507\n",
      "           6       0.32      0.41      0.36       395\n",
      "           7       0.25      0.40      0.31       368\n",
      "           8       0.20      0.39      0.27       228\n",
      "           9       0.30      0.52      0.38       190\n",
      "          10       0.15      0.22      0.18       172\n",
      "          11       0.20      0.23      0.21       173\n",
      "          12       0.19      0.25      0.21       159\n",
      "          13       0.24      0.56      0.34       145\n",
      "          14       0.23      0.43      0.30       129\n",
      "          15       0.21      0.26      0.23       148\n",
      "          16       0.18      0.25      0.21       136\n",
      "          17       0.12      0.10      0.11       119\n",
      "          18       0.46      0.40      0.43       113\n",
      "          19       0.23      0.30      0.26       129\n",
      "          20       0.14      0.19      0.16       115\n",
      "          21       0.11      0.19      0.14       117\n",
      "          22       0.28      0.52      0.37        92\n",
      "          23       0.11      0.16      0.13        93\n",
      "          24       0.09      0.10      0.10        97\n",
      "          25       0.29      0.49      0.37        83\n",
      "          26       0.08      0.11      0.09        83\n",
      "          27       0.09      0.13      0.11        85\n",
      "          28       0.09      0.13      0.11        79\n",
      "          29       0.11      0.09      0.10        66\n",
      "          30       0.23      0.38      0.29        66\n",
      "          31       0.09      0.06      0.07        65\n",
      "          32       0.11      0.16      0.13        64\n",
      "          33       0.06      0.02      0.03        56\n",
      "          34       0.12      0.08      0.09        51\n",
      "          35       0.09      0.08      0.08        51\n",
      "          36       0.10      0.06      0.07        36\n",
      "          37       0.12      0.09      0.10        45\n",
      "          38       0.00      0.00      0.00        40\n",
      "          39       0.03      0.02      0.03        42\n",
      "          40       0.10      0.05      0.06        44\n",
      "          41       0.19      0.11      0.14        35\n",
      "          42       0.06      0.03      0.04        37\n",
      "          43       0.07      0.02      0.04        41\n",
      "          44       0.12      0.05      0.07        39\n",
      "          45       0.00      0.00      0.00        40\n",
      "          46       0.12      0.07      0.09        28\n",
      "          47       0.00      0.00      0.00        29\n",
      "          48       0.27      0.23      0.25        26\n",
      "          49       0.14      0.20      0.16        25\n",
      "          50       0.07      0.05      0.06        22\n",
      "          51       0.29      0.07      0.11        28\n",
      "          52       0.17      0.04      0.06        27\n",
      "          53       0.25      0.06      0.10        32\n",
      "          54       0.24      0.23      0.24        30\n",
      "          55       0.17      0.07      0.10        27\n",
      "          56       0.00      0.00      0.00        18\n",
      "          57       0.29      0.33      0.31        18\n",
      "          58       0.00      0.00      0.00        15\n",
      "          59       0.00      0.00      0.00        13\n",
      "          60       0.00      0.00      0.00        15\n",
      "          61       0.00      0.00      0.00        13\n",
      "          62       0.00      0.00      0.00        11\n",
      "          63       0.50      0.09      0.15        11\n",
      "          64       0.40      0.29      0.33        14\n",
      "          65       0.11      0.08      0.10        12\n",
      "          66       0.00      0.00      0.00         8\n",
      "          67       0.00      0.00      0.00         5\n",
      "          68       0.00      0.00      0.00         8\n",
      "          69       0.00      0.00      0.00         9\n",
      "          70       0.00      0.00      0.00         5\n",
      "\n",
      "   micro avg       0.33      0.42      0.37      9022\n",
      "   macro avg       0.17      0.19      0.16      9022\n",
      "weighted avg       0.32      0.42      0.36      9022\n",
      " samples avg       0.33      0.45      0.33      9022\n",
      "\n",
      "0.36810650600068023\n"
     ]
    }
   ],
   "source": [
    "l_model_char = apply_algo(tfidf_train_ubt, tfidf_test_ubt,tfidf_val_ubt,ytrain,ytest,yval,ngm='U+B+T',loss= 'hinge',algo = 'n')"
   ]
  },
  {
   "cell_type": "markdown",
   "metadata": {
    "colab_type": "text",
    "id": "68ZdLWoD0EFk"
   },
   "source": [
    "## On Uni + Bi + Tri + Char3 + Char 4"
   ]
  },
  {
   "cell_type": "markdown",
   "metadata": {
    "colab_type": "text",
    "id": "sha9dJ070EFl"
   },
   "source": [
    "### On TFIDF Vector"
   ]
  },
  {
   "cell_type": "code",
   "execution_count": 0,
   "metadata": {
    "colab": {
     "base_uri": "https://localhost:8080/",
     "height": 1000
    },
    "colab_type": "code",
    "id": "OOHswhI70EFo",
    "outputId": "7569d9f6-c97f-4076-954e-9e48f58c724a",
    "scrolled": true
   },
   "outputs": [
    {
     "name": "stdout",
     "output_type": "stream",
     "text": [
      "\n",
      "Applying Normal Logistic Regression\n",
      "Fitting with Gridsearch...\n",
      "Fitting 3 folds for each of 20 candidates, totalling 60 fits\n"
     ]
    },
    {
     "name": "stderr",
     "output_type": "stream",
     "text": [
      "[Parallel(n_jobs=-1)]: Using backend LokyBackend with 8 concurrent workers.\n",
      "[Parallel(n_jobs=-1)]: Done   2 tasks      | elapsed:  1.4min\n",
      "[Parallel(n_jobs=-1)]: Done   9 tasks      | elapsed:  3.5min\n",
      "[Parallel(n_jobs=-1)]: Done  16 tasks      | elapsed:  6.1min\n",
      "[Parallel(n_jobs=-1)]: Done  25 tasks      | elapsed:  9.2min\n",
      "[Parallel(n_jobs=-1)]: Done  34 tasks      | elapsed: 17.0min\n",
      "[Parallel(n_jobs=-1)]: Done  45 tasks      | elapsed: 28.2min\n",
      "[Parallel(n_jobs=-1)]: Done  52 out of  60 | elapsed: 45.1min remaining:  6.9min\n",
      "[Parallel(n_jobs=-1)]: Done  60 out of  60 | elapsed: 66.4min finished\n"
     ]
    },
    {
     "name": "stdout",
     "output_type": "stream",
     "text": [
      "**************************************************\n",
      "OneVsRestClassifier(estimator=LogisticRegression(C=0.1, class_weight='balanced',\n",
      "                                                 dual=False, fit_intercept=True,\n",
      "                                                 intercept_scaling=1,\n",
      "                                                 l1_ratio=None, max_iter=100,\n",
      "                                                 multi_class='warn', n_jobs=-1,\n",
      "                                                 penalty='l2',\n",
      "                                                 random_state=None,\n",
      "                                                 solver='warn', tol=0.0001,\n",
      "                                                 verbose=0, warm_start=False),\n",
      "                    n_jobs=None)\n",
      "**************************************************\n",
      "****************************Fitting with best estimator**********************\n",
      "predicting\n",
      "Val Accuracy : 0.033291192583227984\n",
      "\n",
      "Val Hamming loss  0.06202999709169471\n",
      "\n",
      "Val f1-score 0.38082824811896443\n",
      "\n",
      "Micro-average on test data\n",
      "\n",
      "Precision: 0.3308, Recall: 0.4488, F1-measure: 0.3808\n",
      "              precision    recall  f1-score   support\n",
      "\n",
      "           0       0.65      0.71      0.68      1155\n",
      "           1       0.55      0.69      0.61       911\n",
      "           2       0.32      0.45      0.37       596\n",
      "           3       0.42      0.60      0.49       587\n",
      "           4       0.34      0.54      0.42       551\n",
      "           5       0.31      0.49      0.38       507\n",
      "           6       0.33      0.47      0.39       395\n",
      "           7       0.26      0.43      0.32       368\n",
      "           8       0.21      0.44      0.28       228\n",
      "           9       0.30      0.55      0.39       190\n",
      "          10       0.18      0.27      0.22       172\n",
      "          11       0.21      0.29      0.25       173\n",
      "          12       0.20      0.29      0.24       159\n",
      "          13       0.24      0.56      0.34       145\n",
      "          14       0.22      0.46      0.30       129\n",
      "          15       0.21      0.29      0.24       148\n",
      "          16       0.19      0.29      0.23       136\n",
      "          17       0.15      0.11      0.13       119\n",
      "          18       0.47      0.42      0.45       113\n",
      "          19       0.25      0.36      0.30       129\n",
      "          20       0.10      0.15      0.12       115\n",
      "          21       0.13      0.22      0.17       117\n",
      "          22       0.25      0.55      0.35        92\n",
      "          23       0.12      0.18      0.14        93\n",
      "          24       0.10      0.10      0.10        97\n",
      "          25       0.29      0.58      0.39        83\n",
      "          26       0.08      0.08      0.08        83\n",
      "          27       0.13      0.20      0.16        85\n",
      "          28       0.09      0.14      0.11        79\n",
      "          29       0.08      0.06      0.07        66\n",
      "          30       0.26      0.50      0.34        66\n",
      "          31       0.16      0.12      0.14        65\n",
      "          32       0.13      0.17      0.15        64\n",
      "          33       0.05      0.02      0.03        56\n",
      "          34       0.19      0.16      0.17        51\n",
      "          35       0.10      0.08      0.09        51\n",
      "          36       0.16      0.08      0.11        36\n",
      "          37       0.22      0.13      0.17        45\n",
      "          38       0.00      0.00      0.00        40\n",
      "          39       0.12      0.05      0.07        42\n",
      "          40       0.14      0.05      0.07        44\n",
      "          41       0.20      0.11      0.15        35\n",
      "          42       0.08      0.05      0.06        37\n",
      "          43       0.00      0.00      0.00        41\n",
      "          44       0.12      0.05      0.07        39\n",
      "          45       0.18      0.05      0.08        40\n",
      "          46       0.21      0.11      0.14        28\n",
      "          47       0.00      0.00      0.00        29\n",
      "          48       0.31      0.35      0.33        26\n",
      "          49       0.14      0.20      0.17        25\n",
      "          50       0.12      0.05      0.07        22\n",
      "          51       0.19      0.11      0.14        28\n",
      "          52       0.29      0.07      0.12        27\n",
      "          53       0.33      0.06      0.11        32\n",
      "          54       0.21      0.30      0.25        30\n",
      "          55       0.12      0.07      0.09        27\n",
      "          56       0.25      0.06      0.09        18\n",
      "          57       0.35      0.39      0.37        18\n",
      "          58       0.00      0.00      0.00        15\n",
      "          59       0.00      0.00      0.00        13\n",
      "          60       0.00      0.00      0.00        15\n",
      "          61       0.00      0.00      0.00        13\n",
      "          62       0.00      0.00      0.00        11\n",
      "          63       1.00      0.18      0.31        11\n",
      "          64       0.36      0.29      0.32        14\n",
      "          65       0.10      0.08      0.09        12\n",
      "          66       0.00      0.00      0.00         8\n",
      "          67       0.00      0.00      0.00         5\n",
      "          68       0.00      0.00      0.00         8\n",
      "          69       0.00      0.00      0.00         9\n",
      "          70       0.00      0.00      0.00         5\n",
      "\n",
      "   micro avg       0.33      0.44      0.38      9022\n",
      "   macro avg       0.19      0.21      0.18      9022\n",
      "weighted avg       0.33      0.44      0.37      9022\n",
      " samples avg       0.34      0.48      0.34      9022\n",
      "\n",
      "0.37805514688434344\n"
     ]
    }
   ],
   "source": [
    "l_model_char = apply_algo(tfidf_train_ubtc34, tfidf_test_ubtc34,tfidf_val_ubtc34,ytrain,ytest,yval,ngm='U+B+T+C3+C4',loss='hinge',algo = 'n')"
   ]
  },
  {
   "cell_type": "markdown",
   "metadata": {
    "colab_type": "text",
    "id": "fOCts7JYXUcE"
   },
   "source": [
    "## Conclusions & Observations"
   ]
  },
  {
   "cell_type": "markdown",
   "metadata": {
    "colab_type": "text",
    "id": "ywLlraLSDq55"
   },
   "source": [
    "### For Tfidf Models"
   ]
  },
  {
   "cell_type": "code",
   "execution_count": 0,
   "metadata": {
    "colab": {
     "base_uri": "https://localhost:8080/",
     "height": 425
    },
    "colab_type": "code",
    "id": "Tsj_WG-Oa2Xt",
    "outputId": "0bbbef0a-2cc1-4005-d854-53513f60d3b8",
    "scrolled": false
   },
   "outputs": [
    {
     "name": "stdout",
     "output_type": "stream",
     "text": [
      "+-------------+--------+---------------------+-------+---------------------+---------------------+\n",
      "|   n-grams   | Vector |        Model        | Alpha |    Hammming Loss    |       F1Score       |\n",
      "+-------------+--------+---------------------+-------+---------------------+---------------------+\n",
      "|     Uni     | Tfidf  | Logistic Regression |   1   |  0.4340500997561516 | 0.35008045771500085 |\n",
      "|      Bi     | Tfidf  | Logistic Regression |  0.01 | 0.40279317224562183 |  0.3334403817039042 |\n",
      "|     Tri     | Tfidf  | Logistic Regression |   1   | 0.33274218576812237 | 0.16952311037072593 |\n",
      "|    Char 3   | Tfidf  | Logistic Regression |   1   |  0.4730658390600754 | 0.32093845170507956 |\n",
      "|    Char 4   | Tfidf  | Logistic Regression |   1   |  0.4424739525604079 | 0.35379093366419995 |\n",
      "|   Char 34   | Tfidf  | Logistic Regression |   1   | 0.46575038794058965 |  0.3469000247667795 |\n",
      "|    U+B+T    | Tfidf  | Logistic Regression |  0.1  |  0.4198625581910885 | 0.36810650600068023 |\n",
      "| U+B+T+C3+C4 | Tfidf  | Logistic Regression |  0.1  |  0.4414763910441144 | 0.37805514688434344 |\n",
      "+-------------+--------+---------------------+-------+---------------------+---------------------+\n",
      "+-------------+--------+--------------------------+--------+---------------------+---------------------+\n",
      "|   n-grams   | Vector |          Model           | Alpha  |    Hammming Loss    |       F1Score       |\n",
      "+-------------+--------+--------------------------+--------+---------------------+---------------------+\n",
      "|     Uni     | Tfidf  | Logistic Regression(SGD) | 0.0001 |  0.4401463090223897 |  0.3434823977164605 |\n",
      "|      Bi     | Tfidf  | Logistic Regression(SGD) | 0.001  | 0.35446685878962536 | 0.34948909895634117 |\n",
      "|     Tri     | Tfidf  | Logistic Regression(SGD) | 0.001  |  0.3563511416537353 | 0.16809139152484773 |\n",
      "|    Char 3   | Tfidf  | Logistic Regression(SGD) | 0.0001 |  0.4830414542230104 | 0.31824156564918943 |\n",
      "|    Char 4   | Tfidf  | Logistic Regression(SGD) | 0.0001 |  0.4454666371092884 |  0.3476643598615917 |\n",
      "|   Char 34   | Tfidf  | Logistic Regression(SGD) | 0.0001 | 0.46209266238084684 | 0.33784440842787683 |\n",
      "|    U+B+T    | Tfidf  | Logistic Regression(SGD) | 0.001  | 0.42928397251163825 |  0.362742343354875  |\n",
      "| U+B+T+C3+C4 | Tfidf  | Logistic Regression(SGD) | 0.001  |  0.454555530924407  |  0.3701430569971569 |\n",
      "+-------------+--------+--------------------------+--------+---------------------+---------------------+\n"
     ]
    }
   ],
   "source": [
    "with open('lfinal_tab.html','r')  as f:\n",
    "  print(from_html_one(f.read()))\n",
    "\n",
    "with open('final_tab.html','r')  as f:\n",
    "  print(from_html_one(f.read()))  "
   ]
  },
  {
   "cell_type": "markdown",
   "metadata": {
    "colab_type": "text",
    "id": "LhgyV7FFxVwE"
   },
   "source": [
    "### Observations\n",
    "\n",
    "<ol>\n",
    "    <li>The max f1score that is obtained is 37.805% ~ 38%</li>\n",
    "    <li>Almost all the vectors are having above 30% f1score exepth Tri gram vector</li>\n",
    "    <li>Normal logistic regression is getting highest f1score compared with sgd logistic regression</li>\n",
    "    <li>The best alpha value  is 0.001 for logistic regression and 0.1 for sgd logistic regression</li>\n",
    "</ol>    "
   ]
  },
  {
   "cell_type": "markdown",
   "metadata": {
    "colab_type": "text",
    "id": "6_vlelmh23Bf"
   },
   "source": [
    "## Steps Followed\n",
    "<strong>Note:</strong>Only few machine learning models or vectors were listed in this documented, ML models or vectors that were with low f1score is removed from this document\n",
    "<ol>\n",
    "  <li>\n",
    "  <strong>Getting Data:</strong> Data is obtained from <a href = \"https://www.kaggle.com/cryptexcode/mpst-movie-plot-synopses-with-tags\">Kaggle</a>\n",
    "\n",
    "  <ul>\n",
    "      <li>After getting data it saved to local disk for future use</li>\n",
    "      <li>Data is split based on split  column in data frame</li>\n",
    "   \n",
    "  </ul>\n",
    "\n",
    "  </li>\n",
    "  \n",
    "  <li><strong>Preprocessing:</strong>\n",
    "      <ul>\n",
    "          <li>There were other language characters in the data, which are supposed to be removed or replace with english language meaning here we have choosen to replace with english language meaning</li>          \n",
    "          <li>Special Characters like î,¿,,,´,—,*,》,\",®,ą were removed</li>   \n",
    "      </ul>\n",
    "  </li>\n",
    "  <li><strong>EDA:</strong>There where 71 unique tags and most of the plot synopsis had 2 or 3 or 5 tags</li>\n",
    "  <li><strong>Vectorizing:</strong>Our tags are transformed to multilabels and our data is vectorized with following techniques\n",
    "  <ul>\n",
    "      <li>Tfidf Uni Gram</li>\n",
    "      <li>Tfidf Bi Gram</li>\n",
    "      <li>Tfidf Tri Gram</li>\n",
    "      <li>Tfidf Char 3</li>\n",
    "      <li>Tfidf Char 4</li>\n",
    "      <li>Tfidf Char 3 + 4</li>\n",
    "      <li>Tfidf Uni + Bi + Tri + Char 3 + Char 4</li>\n",
    "  </ul>\n",
    "  <li><strong>Algorithms Used</strong> \n",
    "    <ul>\n",
    "      <li>Logistic Regression</li>\n",
    "      <li>SGD with Log loss</li>\n",
    "      \n",
    "\n",
    "\n",
    "</ol>"
   ]
  }
 ],
 "metadata": {
  "colab": {
   "collapsed_sections": [],
   "name": "Movie_Tag_Prediction_all_tags_ml.ipynb",
   "provenance": []
  },
  "kernelspec": {
   "display_name": "Python 3",
   "language": "python",
   "name": "python3"
  },
  "language_info": {
   "codemirror_mode": {
    "name": "ipython",
    "version": 3
   },
   "file_extension": ".py",
   "mimetype": "text/x-python",
   "name": "python",
   "nbconvert_exporter": "python",
   "pygments_lexer": "ipython3",
   "version": "3.5.3"
  }
 },
 "nbformat": 4,
 "nbformat_minor": 1
}
